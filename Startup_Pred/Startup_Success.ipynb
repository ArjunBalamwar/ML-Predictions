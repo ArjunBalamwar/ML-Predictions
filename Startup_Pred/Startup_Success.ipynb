{
 "cells": [
  {
   "cell_type": "markdown",
   "metadata": {},
   "source": [
    "Importing packages"
   ]
  },
  {
   "cell_type": "code",
   "execution_count": 1,
   "metadata": {},
   "outputs": [],
   "source": [
    "import pandas as pd\n",
    "import numpy as np\n",
    "import matplotlib.pyplot as plt\n",
    "from seaborn import pairplot \n",
    "from sklearn.model_selection import train_test_split\n",
    "from sklearn import preprocessing\n",
    "import statsmodels.api as sm\n",
    "from sklearn import tree\n",
    "from sklearn.linear_model import LogisticRegression\n",
    "from sklearn.ensemble import RandomForestClassifier\n",
    "from sklearn.tree import DecisionTreeClassifier\n",
    "from sklearn.neighbors import KNeighborsClassifier\n",
    "from sklearn.svm import SVC\n",
    "from sklearn.ensemble import BaggingClassifier, AdaBoostClassifier, GradientBoostingClassifier\n",
    "from sklearn.metrics import accuracy_score\n",
    "from xgboost import XGBClassifier\n",
    "from lightgbm import LGBMClassifier"
   ]
  },
  {
   "cell_type": "markdown",
   "metadata": {},
   "source": [
    "Reading csv files"
   ]
  },
  {
   "cell_type": "code",
   "execution_count": 2,
   "metadata": {},
   "outputs": [
    {
     "data": {
      "text/html": [
       "<div>\n",
       "<style scoped>\n",
       "    .dataframe tbody tr th:only-of-type {\n",
       "        vertical-align: middle;\n",
       "    }\n",
       "\n",
       "    .dataframe tbody tr th {\n",
       "        vertical-align: top;\n",
       "    }\n",
       "\n",
       "    .dataframe thead th {\n",
       "        text-align: right;\n",
       "    }\n",
       "</style>\n",
       "<table border=\"1\" class=\"dataframe\">\n",
       "  <thead>\n",
       "    <tr style=\"text-align: right;\">\n",
       "      <th></th>\n",
       "      <th>Unnamed: 0</th>\n",
       "      <th>state_code</th>\n",
       "      <th>latitude</th>\n",
       "      <th>longitude</th>\n",
       "      <th>zip_code</th>\n",
       "      <th>id</th>\n",
       "      <th>city</th>\n",
       "      <th>Unnamed: 6</th>\n",
       "      <th>name</th>\n",
       "      <th>founded_at</th>\n",
       "      <th>...</th>\n",
       "      <th>object_id</th>\n",
       "      <th>has_VC</th>\n",
       "      <th>has_angel</th>\n",
       "      <th>has_roundA</th>\n",
       "      <th>has_roundB</th>\n",
       "      <th>has_roundC</th>\n",
       "      <th>has_roundD</th>\n",
       "      <th>avg_participants</th>\n",
       "      <th>is_top500</th>\n",
       "      <th>status</th>\n",
       "    </tr>\n",
       "  </thead>\n",
       "  <tbody>\n",
       "    <tr>\n",
       "      <th>0</th>\n",
       "      <td>1005</td>\n",
       "      <td>CA</td>\n",
       "      <td>42.358880</td>\n",
       "      <td>-71.056820</td>\n",
       "      <td>92101</td>\n",
       "      <td>c:6669</td>\n",
       "      <td>San Diego</td>\n",
       "      <td>NaN</td>\n",
       "      <td>Bandsintown</td>\n",
       "      <td>01-01-07</td>\n",
       "      <td>...</td>\n",
       "      <td>c:6669</td>\n",
       "      <td>0</td>\n",
       "      <td>1</td>\n",
       "      <td>0</td>\n",
       "      <td>0</td>\n",
       "      <td>0</td>\n",
       "      <td>0</td>\n",
       "      <td>1.0000</td>\n",
       "      <td>0</td>\n",
       "      <td>acquired</td>\n",
       "    </tr>\n",
       "    <tr>\n",
       "      <th>1</th>\n",
       "      <td>204</td>\n",
       "      <td>CA</td>\n",
       "      <td>37.238916</td>\n",
       "      <td>-121.973718</td>\n",
       "      <td>95032</td>\n",
       "      <td>c:16283</td>\n",
       "      <td>Los Gatos</td>\n",
       "      <td>NaN</td>\n",
       "      <td>TriCipher</td>\n",
       "      <td>01-01-00</td>\n",
       "      <td>...</td>\n",
       "      <td>c:16283</td>\n",
       "      <td>1</td>\n",
       "      <td>0</td>\n",
       "      <td>0</td>\n",
       "      <td>1</td>\n",
       "      <td>1</td>\n",
       "      <td>1</td>\n",
       "      <td>4.7500</td>\n",
       "      <td>1</td>\n",
       "      <td>acquired</td>\n",
       "    </tr>\n",
       "    <tr>\n",
       "      <th>2</th>\n",
       "      <td>1001</td>\n",
       "      <td>CA</td>\n",
       "      <td>32.901049</td>\n",
       "      <td>-117.192656</td>\n",
       "      <td>92121</td>\n",
       "      <td>c:65620</td>\n",
       "      <td>San Diego</td>\n",
       "      <td>San Diego CA 92121</td>\n",
       "      <td>Plixi</td>\n",
       "      <td>3/18/2009</td>\n",
       "      <td>...</td>\n",
       "      <td>c:65620</td>\n",
       "      <td>0</td>\n",
       "      <td>0</td>\n",
       "      <td>1</td>\n",
       "      <td>0</td>\n",
       "      <td>0</td>\n",
       "      <td>0</td>\n",
       "      <td>4.0000</td>\n",
       "      <td>1</td>\n",
       "      <td>acquired</td>\n",
       "    </tr>\n",
       "    <tr>\n",
       "      <th>3</th>\n",
       "      <td>738</td>\n",
       "      <td>CA</td>\n",
       "      <td>37.320309</td>\n",
       "      <td>-122.050040</td>\n",
       "      <td>95014</td>\n",
       "      <td>c:42668</td>\n",
       "      <td>Cupertino</td>\n",
       "      <td>Cupertino CA 95014</td>\n",
       "      <td>Solidcore Systems</td>\n",
       "      <td>01-01-02</td>\n",
       "      <td>...</td>\n",
       "      <td>c:42668</td>\n",
       "      <td>0</td>\n",
       "      <td>0</td>\n",
       "      <td>0</td>\n",
       "      <td>1</td>\n",
       "      <td>1</td>\n",
       "      <td>1</td>\n",
       "      <td>3.3333</td>\n",
       "      <td>1</td>\n",
       "      <td>acquired</td>\n",
       "    </tr>\n",
       "    <tr>\n",
       "      <th>4</th>\n",
       "      <td>1002</td>\n",
       "      <td>CA</td>\n",
       "      <td>37.779281</td>\n",
       "      <td>-122.419236</td>\n",
       "      <td>94105</td>\n",
       "      <td>c:65806</td>\n",
       "      <td>San Francisco</td>\n",
       "      <td>San Francisco CA 94105</td>\n",
       "      <td>Inhale Digital</td>\n",
       "      <td>08-01-10</td>\n",
       "      <td>...</td>\n",
       "      <td>c:65806</td>\n",
       "      <td>1</td>\n",
       "      <td>1</td>\n",
       "      <td>0</td>\n",
       "      <td>0</td>\n",
       "      <td>0</td>\n",
       "      <td>0</td>\n",
       "      <td>1.0000</td>\n",
       "      <td>1</td>\n",
       "      <td>closed</td>\n",
       "    </tr>\n",
       "    <tr>\n",
       "      <th>...</th>\n",
       "      <td>...</td>\n",
       "      <td>...</td>\n",
       "      <td>...</td>\n",
       "      <td>...</td>\n",
       "      <td>...</td>\n",
       "      <td>...</td>\n",
       "      <td>...</td>\n",
       "      <td>...</td>\n",
       "      <td>...</td>\n",
       "      <td>...</td>\n",
       "      <td>...</td>\n",
       "      <td>...</td>\n",
       "      <td>...</td>\n",
       "      <td>...</td>\n",
       "      <td>...</td>\n",
       "      <td>...</td>\n",
       "      <td>...</td>\n",
       "      <td>...</td>\n",
       "      <td>...</td>\n",
       "      <td>...</td>\n",
       "      <td>...</td>\n",
       "    </tr>\n",
       "    <tr>\n",
       "      <th>918</th>\n",
       "      <td>352</td>\n",
       "      <td>CA</td>\n",
       "      <td>37.740594</td>\n",
       "      <td>-122.376471</td>\n",
       "      <td>94107</td>\n",
       "      <td>c:21343</td>\n",
       "      <td>San Francisco</td>\n",
       "      <td>NaN</td>\n",
       "      <td>CoTweet</td>\n",
       "      <td>01-01-09</td>\n",
       "      <td>...</td>\n",
       "      <td>c:21343</td>\n",
       "      <td>0</td>\n",
       "      <td>0</td>\n",
       "      <td>1</td>\n",
       "      <td>0</td>\n",
       "      <td>0</td>\n",
       "      <td>0</td>\n",
       "      <td>6.0000</td>\n",
       "      <td>1</td>\n",
       "      <td>acquired</td>\n",
       "    </tr>\n",
       "    <tr>\n",
       "      <th>919</th>\n",
       "      <td>721</td>\n",
       "      <td>MA</td>\n",
       "      <td>42.504817</td>\n",
       "      <td>-71.195611</td>\n",
       "      <td>1803</td>\n",
       "      <td>c:41747</td>\n",
       "      <td>Burlington</td>\n",
       "      <td>Burlington MA 1803</td>\n",
       "      <td>Reef Point Systems</td>\n",
       "      <td>01-01-98</td>\n",
       "      <td>...</td>\n",
       "      <td>c:41747</td>\n",
       "      <td>1</td>\n",
       "      <td>0</td>\n",
       "      <td>0</td>\n",
       "      <td>1</td>\n",
       "      <td>0</td>\n",
       "      <td>0</td>\n",
       "      <td>2.6667</td>\n",
       "      <td>1</td>\n",
       "      <td>closed</td>\n",
       "    </tr>\n",
       "    <tr>\n",
       "      <th>920</th>\n",
       "      <td>557</td>\n",
       "      <td>CA</td>\n",
       "      <td>37.408261</td>\n",
       "      <td>-122.015920</td>\n",
       "      <td>94089</td>\n",
       "      <td>c:31549</td>\n",
       "      <td>Sunnyvale</td>\n",
       "      <td>NaN</td>\n",
       "      <td>Paracor Medical</td>\n",
       "      <td>01-01-99</td>\n",
       "      <td>...</td>\n",
       "      <td>c:31549</td>\n",
       "      <td>0</td>\n",
       "      <td>0</td>\n",
       "      <td>0</td>\n",
       "      <td>0</td>\n",
       "      <td>0</td>\n",
       "      <td>1</td>\n",
       "      <td>8.0000</td>\n",
       "      <td>1</td>\n",
       "      <td>closed</td>\n",
       "    </tr>\n",
       "    <tr>\n",
       "      <th>921</th>\n",
       "      <td>589</td>\n",
       "      <td>CA</td>\n",
       "      <td>37.556732</td>\n",
       "      <td>-122.288378</td>\n",
       "      <td>94404</td>\n",
       "      <td>c:33198</td>\n",
       "      <td>San Francisco</td>\n",
       "      <td>NaN</td>\n",
       "      <td>Causata</td>\n",
       "      <td>01-01-09</td>\n",
       "      <td>...</td>\n",
       "      <td>c:33198</td>\n",
       "      <td>0</td>\n",
       "      <td>0</td>\n",
       "      <td>1</td>\n",
       "      <td>1</td>\n",
       "      <td>0</td>\n",
       "      <td>0</td>\n",
       "      <td>1.0000</td>\n",
       "      <td>1</td>\n",
       "      <td>acquired</td>\n",
       "    </tr>\n",
       "    <tr>\n",
       "      <th>922</th>\n",
       "      <td>462</td>\n",
       "      <td>CA</td>\n",
       "      <td>37.386778</td>\n",
       "      <td>-121.966277</td>\n",
       "      <td>95054</td>\n",
       "      <td>c:26702</td>\n",
       "      <td>Santa Clara</td>\n",
       "      <td>Santa Clara CA 95054</td>\n",
       "      <td>Asempra Technologies</td>\n",
       "      <td>01-01-03</td>\n",
       "      <td>...</td>\n",
       "      <td>c:26702</td>\n",
       "      <td>0</td>\n",
       "      <td>0</td>\n",
       "      <td>0</td>\n",
       "      <td>1</td>\n",
       "      <td>0</td>\n",
       "      <td>0</td>\n",
       "      <td>3.0000</td>\n",
       "      <td>1</td>\n",
       "      <td>acquired</td>\n",
       "    </tr>\n",
       "  </tbody>\n",
       "</table>\n",
       "<p>923 rows × 48 columns</p>\n",
       "</div>"
      ],
      "text/plain": [
       "     Unnamed: 0 state_code   latitude   longitude zip_code       id  \\\n",
       "0          1005         CA  42.358880  -71.056820    92101   c:6669   \n",
       "1           204         CA  37.238916 -121.973718    95032  c:16283   \n",
       "2          1001         CA  32.901049 -117.192656    92121  c:65620   \n",
       "3           738         CA  37.320309 -122.050040    95014  c:42668   \n",
       "4          1002         CA  37.779281 -122.419236    94105  c:65806   \n",
       "..          ...        ...        ...         ...      ...      ...   \n",
       "918         352         CA  37.740594 -122.376471    94107  c:21343   \n",
       "919         721         MA  42.504817  -71.195611     1803  c:41747   \n",
       "920         557         CA  37.408261 -122.015920    94089  c:31549   \n",
       "921         589         CA  37.556732 -122.288378    94404  c:33198   \n",
       "922         462         CA  37.386778 -121.966277    95054  c:26702   \n",
       "\n",
       "              city              Unnamed: 6                  name founded_at  \\\n",
       "0        San Diego                     NaN           Bandsintown   01-01-07   \n",
       "1        Los Gatos                     NaN             TriCipher   01-01-00   \n",
       "2        San Diego      San Diego CA 92121                 Plixi  3/18/2009   \n",
       "3        Cupertino      Cupertino CA 95014     Solidcore Systems   01-01-02   \n",
       "4    San Francisco  San Francisco CA 94105        Inhale Digital   08-01-10   \n",
       "..             ...                     ...                   ...        ...   \n",
       "918  San Francisco                     NaN               CoTweet   01-01-09   \n",
       "919     Burlington      Burlington MA 1803    Reef Point Systems   01-01-98   \n",
       "920      Sunnyvale                     NaN       Paracor Medical   01-01-99   \n",
       "921  San Francisco                     NaN               Causata   01-01-09   \n",
       "922    Santa Clara    Santa Clara CA 95054  Asempra Technologies   01-01-03   \n",
       "\n",
       "     ... object_id has_VC has_angel  has_roundA  has_roundB  has_roundC  \\\n",
       "0    ...    c:6669      0         1           0           0           0   \n",
       "1    ...   c:16283      1         0           0           1           1   \n",
       "2    ...   c:65620      0         0           1           0           0   \n",
       "3    ...   c:42668      0         0           0           1           1   \n",
       "4    ...   c:65806      1         1           0           0           0   \n",
       "..   ...       ...    ...       ...         ...         ...         ...   \n",
       "918  ...   c:21343      0         0           1           0           0   \n",
       "919  ...   c:41747      1         0           0           1           0   \n",
       "920  ...   c:31549      0         0           0           0           0   \n",
       "921  ...   c:33198      0         0           1           1           0   \n",
       "922  ...   c:26702      0         0           0           1           0   \n",
       "\n",
       "     has_roundD  avg_participants  is_top500    status  \n",
       "0             0            1.0000          0  acquired  \n",
       "1             1            4.7500          1  acquired  \n",
       "2             0            4.0000          1  acquired  \n",
       "3             1            3.3333          1  acquired  \n",
       "4             0            1.0000          1    closed  \n",
       "..          ...               ...        ...       ...  \n",
       "918           0            6.0000          1  acquired  \n",
       "919           0            2.6667          1    closed  \n",
       "920           1            8.0000          1    closed  \n",
       "921           0            1.0000          1  acquired  \n",
       "922           0            3.0000          1  acquired  \n",
       "\n",
       "[923 rows x 48 columns]"
      ]
     },
     "execution_count": 2,
     "metadata": {},
     "output_type": "execute_result"
    }
   ],
   "source": [
    "df_train  = pd.read_csv(\"https://raw.githubusercontent.com/dphi-official/Datasets/master/startupdata/training_set_label.csv\" )\n",
    "df_test = pd.read_csv('https://raw.githubusercontent.com/dphi-official/Datasets/master/startupdata/testing_set_label.csv')\n",
    "df_test.drop(columns = [\"Unnamed: 6\", \"name\", \"Unnamed: 0\"], inplace=True)\n",
    "df_train"
   ]
  },
  {
   "cell_type": "markdown",
   "metadata": {},
   "source": [
    "Dropping irrelevant columns"
   ]
  },
  {
   "cell_type": "code",
   "execution_count": 3,
   "metadata": {},
   "outputs": [],
   "source": [
    "df_train.drop(columns = [\"Unnamed: 6\", \"name\", \"Unnamed: 0\"], inplace=True)"
   ]
  },
  {
   "cell_type": "markdown",
   "metadata": {},
   "source": [
    "# Cleaning dataset"
   ]
  },
  {
   "cell_type": "code",
   "execution_count": 4,
   "metadata": {},
   "outputs": [
    {
     "data": {
      "text/plain": [
       "state_code                    0\n",
       "latitude                      0\n",
       "longitude                     0\n",
       "zip_code                      0\n",
       "id                            0\n",
       "city                          0\n",
       "founded_at                    0\n",
       "closed_at                   588\n",
       "first_funding_at              0\n",
       "last_funding_at               0\n",
       "age_first_funding_year        0\n",
       "age_last_funding_year         0\n",
       "age_first_milestone_year    152\n",
       "age_last_milestone_year     152\n",
       "relationships                 0\n",
       "funding_rounds                0\n",
       "funding_total_usd             0\n",
       "milestones                    0\n",
       "state_code.1                  1\n",
       "is_CA                         0\n",
       "is_NY                         0\n",
       "is_MA                         0\n",
       "is_TX                         0\n",
       "is_otherstate                 0\n",
       "category_code                 0\n",
       "is_software                   0\n",
       "is_web                        0\n",
       "is_mobile                     0\n",
       "is_enterprise                 0\n",
       "is_advertising                0\n",
       "is_gamesvideo                 0\n",
       "is_ecommerce                  0\n",
       "is_biotech                    0\n",
       "is_consulting                 0\n",
       "is_othercategory              0\n",
       "object_id                     0\n",
       "has_VC                        0\n",
       "has_angel                     0\n",
       "has_roundA                    0\n",
       "has_roundB                    0\n",
       "has_roundC                    0\n",
       "has_roundD                    0\n",
       "avg_participants              0\n",
       "is_top500                     0\n",
       "status                        0\n",
       "dtype: int64"
      ]
     },
     "execution_count": 4,
     "metadata": {},
     "output_type": "execute_result"
    }
   ],
   "source": [
    "df_train.isnull().sum()"
   ]
  },
  {
   "cell_type": "code",
   "execution_count": 5,
   "metadata": {},
   "outputs": [
    {
     "name": "stdout",
     "output_type": "stream",
     "text": [
      "<class 'pandas.core.frame.DataFrame'>\n",
      "RangeIndex: 923 entries, 0 to 922\n",
      "Data columns (total 45 columns):\n",
      " #   Column                    Non-Null Count  Dtype  \n",
      "---  ------                    --------------  -----  \n",
      " 0   state_code                923 non-null    object \n",
      " 1   latitude                  923 non-null    float64\n",
      " 2   longitude                 923 non-null    float64\n",
      " 3   zip_code                  923 non-null    object \n",
      " 4   id                        923 non-null    object \n",
      " 5   city                      923 non-null    object \n",
      " 6   founded_at                923 non-null    object \n",
      " 7   closed_at                 335 non-null    object \n",
      " 8   first_funding_at          923 non-null    object \n",
      " 9   last_funding_at           923 non-null    object \n",
      " 10  age_first_funding_year    923 non-null    float64\n",
      " 11  age_last_funding_year     923 non-null    float64\n",
      " 12  age_first_milestone_year  771 non-null    float64\n",
      " 13  age_last_milestone_year   771 non-null    float64\n",
      " 14  relationships             923 non-null    int64  \n",
      " 15  funding_rounds            923 non-null    int64  \n",
      " 16  funding_total_usd         923 non-null    int64  \n",
      " 17  milestones                923 non-null    int64  \n",
      " 18  state_code.1              922 non-null    object \n",
      " 19  is_CA                     923 non-null    int64  \n",
      " 20  is_NY                     923 non-null    int64  \n",
      " 21  is_MA                     923 non-null    int64  \n",
      " 22  is_TX                     923 non-null    int64  \n",
      " 23  is_otherstate             923 non-null    int64  \n",
      " 24  category_code             923 non-null    object \n",
      " 25  is_software               923 non-null    int64  \n",
      " 26  is_web                    923 non-null    int64  \n",
      " 27  is_mobile                 923 non-null    int64  \n",
      " 28  is_enterprise             923 non-null    int64  \n",
      " 29  is_advertising            923 non-null    int64  \n",
      " 30  is_gamesvideo             923 non-null    int64  \n",
      " 31  is_ecommerce              923 non-null    int64  \n",
      " 32  is_biotech                923 non-null    int64  \n",
      " 33  is_consulting             923 non-null    int64  \n",
      " 34  is_othercategory          923 non-null    int64  \n",
      " 35  object_id                 923 non-null    object \n",
      " 36  has_VC                    923 non-null    int64  \n",
      " 37  has_angel                 923 non-null    int64  \n",
      " 38  has_roundA                923 non-null    int64  \n",
      " 39  has_roundB                923 non-null    int64  \n",
      " 40  has_roundC                923 non-null    int64  \n",
      " 41  has_roundD                923 non-null    int64  \n",
      " 42  avg_participants          923 non-null    float64\n",
      " 43  is_top500                 923 non-null    int64  \n",
      " 44  status                    923 non-null    object \n",
      "dtypes: float64(7), int64(26), object(12)\n",
      "memory usage: 324.6+ KB\n"
     ]
    }
   ],
   "source": [
    "df_train.info()"
   ]
  },
  {
   "cell_type": "code",
   "execution_count": 6,
   "metadata": {},
   "outputs": [],
   "source": [
    "# for column in [\"state_code\"]:\n",
    "#     print(column)\n",
    "#     for i in range(len(df_train[column].value_counts())):\n",
    "#         filt = df_train[column]==df_train[column].value_counts().index[i]\n",
    "#         print(f\"======{df_train[column].value_counts().index[i]}-closed_at=====\\n\")\n",
    "#         print(df_train[filt][\"closed_at\"].value_counts()/len(df_train[filt])*100, \"\\n\")\n",
    "#     print(\"=======================================\")"
   ]
  },
  {
   "cell_type": "code",
   "execution_count": 7,
   "metadata": {},
   "outputs": [
    {
     "data": {
      "text/plain": [
       "0            NaN\n",
       "1            NaN\n",
       "2            NaN\n",
       "3            NaN\n",
       "4       10-01-12\n",
       "         ...    \n",
       "918          NaN\n",
       "919    6/25/2008\n",
       "920    6/17/2012\n",
       "921          NaN\n",
       "922          NaN\n",
       "Name: closed_at, Length: 923, dtype: object"
      ]
     },
     "execution_count": 7,
     "metadata": {},
     "output_type": "execute_result"
    }
   ],
   "source": [
    "df_train.loc[:,\"closed_at\"]"
   ]
  },
  {
   "cell_type": "code",
   "execution_count": 8,
   "metadata": {},
   "outputs": [],
   "source": [
    "df_train[\"closed_at\"] = pd.to_datetime(df_train[\"closed_at\"])\n",
    "df_train[\"founded_at\"] = pd.to_datetime(df_train[\"founded_at\"])\n",
    "df_train[\"first_funding_at\"] = pd.to_datetime(df_train[\"first_funding_at\"])\n",
    "df_train[\"last_funding_at\"] = pd.to_datetime(df_train[\"last_funding_at\"])"
   ]
  },
  {
   "cell_type": "code",
   "execution_count": 9,
   "metadata": {},
   "outputs": [],
   "source": [
    "df_test[\"closed_at\"] = pd.to_datetime(df_test[\"closed_at\"])\n",
    "df_test[\"founded_at\"] = pd.to_datetime(df_test[\"founded_at\"])\n",
    "df_test[\"first_funding_at\"] = pd.to_datetime(df_test[\"first_funding_at\"])\n",
    "df_test[\"last_funding_at\"] = pd.to_datetime(df_test[\"last_funding_at\"])"
   ]
  },
  {
   "cell_type": "code",
   "execution_count": 10,
   "metadata": {},
   "outputs": [],
   "source": [
    "df_train[\"closed_at\"] = df_train[\"closed_at\"].max() - df_train[\"closed_at\"]\n",
    "df_train[\"founded_at\"] = df_train[\"founded_at\"].max() - df_train[\"founded_at\"]\n",
    "df_train[\"first_funding_at\"] = df_train[\"first_funding_at\"].max() - df_train[\"first_funding_at\"]\n",
    "df_train[\"last_funding_at\"] = df_train[\"last_funding_at\"].max() - df_train[\"last_funding_at\"]"
   ]
  },
  {
   "cell_type": "code",
   "execution_count": 11,
   "metadata": {},
   "outputs": [],
   "source": [
    "df_test[\"closed_at\"] = df_test[\"closed_at\"].max() - df_test[\"closed_at\"]\n",
    "df_test[\"founded_at\"] = df_test[\"founded_at\"].max() - df_test[\"founded_at\"]\n",
    "df_test[\"first_funding_at\"] = df_test[\"first_funding_at\"].max() - df_test[\"first_funding_at\"]\n",
    "df_test[\"last_funding_at\"] = df_test[\"last_funding_at\"].max() - df_test[\"last_funding_at\"]"
   ]
  },
  {
   "cell_type": "code",
   "execution_count": 12,
   "metadata": {},
   "outputs": [],
   "source": [
    "df_train['closed_at'] = df_train['closed_at'].astype('timedelta64[D]')\n",
    "df_train['founded_at'] = df_train['founded_at'].astype('timedelta64[D]')\n",
    "df_train['first_funding_at'] = df_train['first_funding_at'].astype('timedelta64[D]')\n",
    "df_train['last_funding_at'] = df_train['last_funding_at'].astype('timedelta64[D]')"
   ]
  },
  {
   "cell_type": "code",
   "execution_count": 13,
   "metadata": {},
   "outputs": [],
   "source": [
    "df_test['closed_at'] = df_test['closed_at'].astype('timedelta64[D]')\n",
    "df_test['founded_at'] = df_test['founded_at'].astype('timedelta64[D]')\n",
    "df_test['first_funding_at'] = df_test['first_funding_at'].astype('timedelta64[D]')\n",
    "df_test['last_funding_at'] = df_test['last_funding_at'].astype('timedelta64[D]')"
   ]
  },
  {
   "cell_type": "markdown",
   "metadata": {},
   "source": [
    "Adding two new features :\n",
    "- id_closed\n",
    "- got_milestone"
   ]
  },
  {
   "cell_type": "code",
   "execution_count": 14,
   "metadata": {},
   "outputs": [],
   "source": [
    "df_train[\"is_closed\"] = 1\n",
    "df_train[\"got_milestone\"] = 1"
   ]
  },
  {
   "cell_type": "code",
   "execution_count": 15,
   "metadata": {},
   "outputs": [],
   "source": [
    "df_test[\"is_closed\"] = 1\n",
    "df_test[\"got_milestone\"] = 1"
   ]
  },
  {
   "cell_type": "code",
   "execution_count": 16,
   "metadata": {},
   "outputs": [],
   "source": [
    "df_train.loc[df_train[\"closed_at\"].isnull(), \"is_closed\"] = 0\n",
    "df_train.loc[df_train[\"age_first_milestone_year\"].isnull(), \"got_milestone\"] = 0"
   ]
  },
  {
   "cell_type": "code",
   "execution_count": 17,
   "metadata": {},
   "outputs": [],
   "source": [
    "df_test.loc[df_test[\"closed_at\"].isnull(), \"is_closed\"] = 0\n",
    "df_test.loc[df_test[\"age_first_milestone_year\"].isnull(), \"got_milestone\"] = 0"
   ]
  },
  {
   "cell_type": "code",
   "execution_count": 18,
   "metadata": {},
   "outputs": [
    {
     "data": {
      "text/plain": [
       "0      1\n",
       "1      1\n",
       "2      1\n",
       "3      1\n",
       "4      1\n",
       "      ..\n",
       "918    1\n",
       "919    1\n",
       "920    1\n",
       "921    1\n",
       "922    1\n",
       "Name: got_milestone, Length: 771, dtype: int64"
      ]
     },
     "execution_count": 18,
     "metadata": {},
     "output_type": "execute_result"
    }
   ],
   "source": [
    "df_train.loc[df_train[\"age_first_milestone_year\"].notnull(), \"got_milestone\"]"
   ]
  },
  {
   "cell_type": "code",
   "execution_count": 19,
   "metadata": {},
   "outputs": [
    {
     "data": {
      "text/plain": [
       "1    250\n",
       "2    246\n",
       "3    182\n",
       "0    152\n",
       "4     62\n",
       "5     24\n",
       "6      6\n",
       "8      1\n",
       "Name: milestones, dtype: int64"
      ]
     },
     "execution_count": 19,
     "metadata": {},
     "output_type": "execute_result"
    }
   ],
   "source": [
    "df_train[\"milestones\"].value_counts()"
   ]
  },
  {
   "cell_type": "code",
   "execution_count": 20,
   "metadata": {},
   "outputs": [],
   "source": [
    "df_train[\"closed_at\"].fillna(-1, inplace=True)\n",
    "df_train[\"age_first_milestone_year\"].fillna(30, inplace=True)\n",
    "df_train[\"age_last_milestone_year\"].fillna(30, inplace=True)"
   ]
  },
  {
   "cell_type": "code",
   "execution_count": 21,
   "metadata": {},
   "outputs": [],
   "source": [
    "df_test[\"closed_at\"].fillna(-1, inplace=True)\n",
    "df_test[\"age_first_milestone_year\"].fillna(30, inplace=True)\n",
    "df_test[\"age_last_milestone_year\"].fillna(30, inplace=True)"
   ]
  },
  {
   "cell_type": "code",
   "execution_count": 22,
   "metadata": {},
   "outputs": [],
   "source": [
    "df_train.loc[df_train[\"state_code.1\"].isnull(), \"state_code.1\"] = \"CA\""
   ]
  },
  {
   "cell_type": "code",
   "execution_count": 23,
   "metadata": {},
   "outputs": [
    {
     "data": {
      "text/plain": [
       "0"
      ]
     },
     "execution_count": 23,
     "metadata": {},
     "output_type": "execute_result"
    }
   ],
   "source": [
    "df_train.isnull().sum().sum()"
   ]
  },
  {
   "cell_type": "markdown",
   "metadata": {},
   "source": [
    "# Labeling"
   ]
  },
  {
   "cell_type": "code",
   "execution_count": 24,
   "metadata": {},
   "outputs": [
    {
     "data": {
      "text/plain": [
       "Index(['state_code', 'latitude', 'longitude', 'zip_code', 'id', 'city',\n",
       "       'founded_at', 'closed_at', 'first_funding_at', 'last_funding_at',\n",
       "       'age_first_funding_year', 'age_last_funding_year',\n",
       "       'age_first_milestone_year', 'age_last_milestone_year', 'relationships',\n",
       "       'funding_rounds', 'funding_total_usd', 'milestones', 'state_code.1',\n",
       "       'is_CA', 'is_NY', 'is_MA', 'is_TX', 'is_otherstate', 'category_code',\n",
       "       'is_software', 'is_web', 'is_mobile', 'is_enterprise', 'is_advertising',\n",
       "       'is_gamesvideo', 'is_ecommerce', 'is_biotech', 'is_consulting',\n",
       "       'is_othercategory', 'object_id', 'has_VC', 'has_angel', 'has_roundA',\n",
       "       'has_roundB', 'has_roundC', 'has_roundD', 'avg_participants',\n",
       "       'is_top500', 'status', 'is_closed', 'got_milestone'],\n",
       "      dtype='object')"
      ]
     },
     "execution_count": 24,
     "metadata": {},
     "output_type": "execute_result"
    }
   ],
   "source": [
    "df_train.columns"
   ]
  },
  {
   "cell_type": "markdown",
   "metadata": {},
   "source": [
    "Dropping unnecessary columns"
   ]
  },
  {
   "cell_type": "code",
   "execution_count": 25,
   "metadata": {},
   "outputs": [],
   "source": [
    "df_train.drop(columns=[\"id\", \"object_id\", \"state_code.1\", \"city\", \"zip_code\"], inplace=True)"
   ]
  },
  {
   "cell_type": "code",
   "execution_count": 26,
   "metadata": {},
   "outputs": [],
   "source": [
    "df_test.drop(columns=[\"id\", \"object_id\", \"state_code.1\", \"city\", \"zip_code\"], inplace=True)"
   ]
  },
  {
   "cell_type": "code",
   "execution_count": 27,
   "metadata": {},
   "outputs": [],
   "source": [
    "cat_columns = [\"state_code\", \"is_CA\", \"is_NY\", \"is_MA\", \"is_TX\", \"is_otherstate\", \"category_code\",\n",
    "               \"is_software\", \"is_web\", \"is_mobile\", \"is_enterprise\", \"is_advertising\", \"is_gamesvideo\",\n",
    "               \"is_ecommerce\", \"is_biotech\", \"is_consulting\", \"is_othercategory\", \"has_VC\", \"has_angel\", \"has_roundA\",\n",
    "               \"has_roundB\", \"has_roundC\", \"has_roundD\", \"is_top500\", \"is_closed\", \"got_milestone\"\n",
    "              ]\n",
    "cont_columns = []\n",
    "for column in df_train.drop(columns = [\"status\"]).columns:\n",
    "    if column not in cat_columns:\n",
    "        cont_columns.append(column)"
   ]
  },
  {
   "cell_type": "code",
   "execution_count": 28,
   "metadata": {},
   "outputs": [
    {
     "data": {
      "text/plain": [
       "['latitude',\n",
       " 'longitude',\n",
       " 'founded_at',\n",
       " 'closed_at',\n",
       " 'first_funding_at',\n",
       " 'last_funding_at',\n",
       " 'age_first_funding_year',\n",
       " 'age_last_funding_year',\n",
       " 'age_first_milestone_year',\n",
       " 'age_last_milestone_year',\n",
       " 'relationships',\n",
       " 'funding_rounds',\n",
       " 'funding_total_usd',\n",
       " 'milestones',\n",
       " 'avg_participants']"
      ]
     },
     "execution_count": 28,
     "metadata": {},
     "output_type": "execute_result"
    }
   ],
   "source": [
    "cont_columns"
   ]
  },
  {
   "cell_type": "code",
   "execution_count": 29,
   "metadata": {},
   "outputs": [
    {
     "data": {
      "text/html": [
       "<div>\n",
       "<style scoped>\n",
       "    .dataframe tbody tr th:only-of-type {\n",
       "        vertical-align: middle;\n",
       "    }\n",
       "\n",
       "    .dataframe tbody tr th {\n",
       "        vertical-align: top;\n",
       "    }\n",
       "\n",
       "    .dataframe thead th {\n",
       "        text-align: right;\n",
       "    }\n",
       "</style>\n",
       "<table border=\"1\" class=\"dataframe\">\n",
       "  <thead>\n",
       "    <tr style=\"text-align: right;\">\n",
       "      <th></th>\n",
       "      <th>state_code</th>\n",
       "      <th>latitude</th>\n",
       "      <th>longitude</th>\n",
       "      <th>founded_at</th>\n",
       "      <th>closed_at</th>\n",
       "      <th>first_funding_at</th>\n",
       "      <th>last_funding_at</th>\n",
       "      <th>age_first_funding_year</th>\n",
       "      <th>age_last_funding_year</th>\n",
       "      <th>age_first_milestone_year</th>\n",
       "      <th>...</th>\n",
       "      <th>has_angel</th>\n",
       "      <th>has_roundA</th>\n",
       "      <th>has_roundB</th>\n",
       "      <th>has_roundC</th>\n",
       "      <th>has_roundD</th>\n",
       "      <th>avg_participants</th>\n",
       "      <th>is_top500</th>\n",
       "      <th>status</th>\n",
       "      <th>is_closed</th>\n",
       "      <th>got_milestone</th>\n",
       "    </tr>\n",
       "  </thead>\n",
       "  <tbody>\n",
       "    <tr>\n",
       "      <th>0</th>\n",
       "      <td>CA</td>\n",
       "      <td>42.358880</td>\n",
       "      <td>-71.056820</td>\n",
       "      <td>2297.0</td>\n",
       "      <td>-1.0</td>\n",
       "      <td>1694.0</td>\n",
       "      <td>1419.0</td>\n",
       "      <td>2.2493</td>\n",
       "      <td>3.0027</td>\n",
       "      <td>4.6685</td>\n",
       "      <td>...</td>\n",
       "      <td>1</td>\n",
       "      <td>0</td>\n",
       "      <td>0</td>\n",
       "      <td>0</td>\n",
       "      <td>0</td>\n",
       "      <td>1.0000</td>\n",
       "      <td>0</td>\n",
       "      <td>acquired</td>\n",
       "      <td>0</td>\n",
       "      <td>1</td>\n",
       "    </tr>\n",
       "    <tr>\n",
       "      <th>1</th>\n",
       "      <td>CA</td>\n",
       "      <td>37.238916</td>\n",
       "      <td>-121.973718</td>\n",
       "      <td>4854.0</td>\n",
       "      <td>-1.0</td>\n",
       "      <td>3201.0</td>\n",
       "      <td>1423.0</td>\n",
       "      <td>5.1260</td>\n",
       "      <td>9.9973</td>\n",
       "      <td>7.0055</td>\n",
       "      <td>...</td>\n",
       "      <td>0</td>\n",
       "      <td>0</td>\n",
       "      <td>1</td>\n",
       "      <td>1</td>\n",
       "      <td>1</td>\n",
       "      <td>4.7500</td>\n",
       "      <td>1</td>\n",
       "      <td>acquired</td>\n",
       "      <td>0</td>\n",
       "      <td>1</td>\n",
       "    </tr>\n",
       "    <tr>\n",
       "      <th>2</th>\n",
       "      <td>CA</td>\n",
       "      <td>32.901049</td>\n",
       "      <td>-117.192656</td>\n",
       "      <td>1490.0</td>\n",
       "      <td>-1.0</td>\n",
       "      <td>1331.0</td>\n",
       "      <td>1331.0</td>\n",
       "      <td>1.0329</td>\n",
       "      <td>1.0329</td>\n",
       "      <td>1.4575</td>\n",
       "      <td>...</td>\n",
       "      <td>0</td>\n",
       "      <td>1</td>\n",
       "      <td>0</td>\n",
       "      <td>0</td>\n",
       "      <td>0</td>\n",
       "      <td>4.0000</td>\n",
       "      <td>1</td>\n",
       "      <td>acquired</td>\n",
       "      <td>0</td>\n",
       "      <td>1</td>\n",
       "    </tr>\n",
       "    <tr>\n",
       "      <th>3</th>\n",
       "      <td>CA</td>\n",
       "      <td>37.320309</td>\n",
       "      <td>-122.050040</td>\n",
       "      <td>4123.0</td>\n",
       "      <td>-1.0</td>\n",
       "      <td>3198.0</td>\n",
       "      <td>2401.0</td>\n",
       "      <td>3.1315</td>\n",
       "      <td>5.3151</td>\n",
       "      <td>6.0027</td>\n",
       "      <td>...</td>\n",
       "      <td>0</td>\n",
       "      <td>0</td>\n",
       "      <td>1</td>\n",
       "      <td>1</td>\n",
       "      <td>1</td>\n",
       "      <td>3.3333</td>\n",
       "      <td>1</td>\n",
       "      <td>acquired</td>\n",
       "      <td>0</td>\n",
       "      <td>1</td>\n",
       "    </tr>\n",
       "    <tr>\n",
       "      <th>4</th>\n",
       "      <td>CA</td>\n",
       "      <td>37.779281</td>\n",
       "      <td>-122.419236</td>\n",
       "      <td>989.0</td>\n",
       "      <td>394.0</td>\n",
       "      <td>1207.0</td>\n",
       "      <td>598.0</td>\n",
       "      <td>0.0000</td>\n",
       "      <td>1.6685</td>\n",
       "      <td>0.0384</td>\n",
       "      <td>...</td>\n",
       "      <td>1</td>\n",
       "      <td>0</td>\n",
       "      <td>0</td>\n",
       "      <td>0</td>\n",
       "      <td>0</td>\n",
       "      <td>1.0000</td>\n",
       "      <td>1</td>\n",
       "      <td>closed</td>\n",
       "      <td>1</td>\n",
       "      <td>1</td>\n",
       "    </tr>\n",
       "  </tbody>\n",
       "</table>\n",
       "<p>5 rows × 42 columns</p>\n",
       "</div>"
      ],
      "text/plain": [
       "  state_code   latitude   longitude  founded_at  closed_at  first_funding_at  \\\n",
       "0         CA  42.358880  -71.056820      2297.0       -1.0            1694.0   \n",
       "1         CA  37.238916 -121.973718      4854.0       -1.0            3201.0   \n",
       "2         CA  32.901049 -117.192656      1490.0       -1.0            1331.0   \n",
       "3         CA  37.320309 -122.050040      4123.0       -1.0            3198.0   \n",
       "4         CA  37.779281 -122.419236       989.0      394.0            1207.0   \n",
       "\n",
       "   last_funding_at  age_first_funding_year  age_last_funding_year  \\\n",
       "0           1419.0                  2.2493                 3.0027   \n",
       "1           1423.0                  5.1260                 9.9973   \n",
       "2           1331.0                  1.0329                 1.0329   \n",
       "3           2401.0                  3.1315                 5.3151   \n",
       "4            598.0                  0.0000                 1.6685   \n",
       "\n",
       "   age_first_milestone_year  ...  has_angel  has_roundA  has_roundB  \\\n",
       "0                    4.6685  ...          1           0           0   \n",
       "1                    7.0055  ...          0           0           1   \n",
       "2                    1.4575  ...          0           1           0   \n",
       "3                    6.0027  ...          0           0           1   \n",
       "4                    0.0384  ...          1           0           0   \n",
       "\n",
       "   has_roundC  has_roundD  avg_participants  is_top500    status  is_closed  \\\n",
       "0           0           0            1.0000          0  acquired          0   \n",
       "1           1           1            4.7500          1  acquired          0   \n",
       "2           0           0            4.0000          1  acquired          0   \n",
       "3           1           1            3.3333          1  acquired          0   \n",
       "4           0           0            1.0000          1    closed          1   \n",
       "\n",
       "   got_milestone  \n",
       "0              1  \n",
       "1              1  \n",
       "2              1  \n",
       "3              1  \n",
       "4              1  \n",
       "\n",
       "[5 rows x 42 columns]"
      ]
     },
     "execution_count": 29,
     "metadata": {},
     "output_type": "execute_result"
    }
   ],
   "source": [
    "df_train.head()"
   ]
  },
  {
   "cell_type": "code",
   "execution_count": 30,
   "metadata": {},
   "outputs": [
    {
     "data": {
      "text/html": [
       "<div>\n",
       "<style scoped>\n",
       "    .dataframe tbody tr th:only-of-type {\n",
       "        vertical-align: middle;\n",
       "    }\n",
       "\n",
       "    .dataframe tbody tr th {\n",
       "        vertical-align: top;\n",
       "    }\n",
       "\n",
       "    .dataframe thead th {\n",
       "        text-align: right;\n",
       "    }\n",
       "</style>\n",
       "<table border=\"1\" class=\"dataframe\">\n",
       "  <thead>\n",
       "    <tr style=\"text-align: right;\">\n",
       "      <th></th>\n",
       "      <th>latitude</th>\n",
       "      <th>longitude</th>\n",
       "      <th>founded_at</th>\n",
       "      <th>closed_at</th>\n",
       "      <th>first_funding_at</th>\n",
       "      <th>last_funding_at</th>\n",
       "      <th>age_first_funding_year</th>\n",
       "      <th>age_last_funding_year</th>\n",
       "      <th>age_first_milestone_year</th>\n",
       "      <th>age_last_milestone_year</th>\n",
       "      <th>relationships</th>\n",
       "      <th>funding_rounds</th>\n",
       "      <th>funding_total_usd</th>\n",
       "      <th>milestones</th>\n",
       "      <th>avg_participants</th>\n",
       "    </tr>\n",
       "  </thead>\n",
       "  <tbody>\n",
       "    <tr>\n",
       "      <th>latitude</th>\n",
       "      <td>1.000000</td>\n",
       "      <td>0.368475</td>\n",
       "      <td>-0.032977</td>\n",
       "      <td>-0.059934</td>\n",
       "      <td>-0.000645</td>\n",
       "      <td>0.002097</td>\n",
       "      <td>-0.046868</td>\n",
       "      <td>-0.041692</td>\n",
       "      <td>-0.059929</td>\n",
       "      <td>-0.057103</td>\n",
       "      <td>-0.039198</td>\n",
       "      <td>-0.000659</td>\n",
       "      <td>-0.072941</td>\n",
       "      <td>0.017708</td>\n",
       "      <td>-0.018176</td>\n",
       "    </tr>\n",
       "    <tr>\n",
       "      <th>longitude</th>\n",
       "      <td>0.368475</td>\n",
       "      <td>1.000000</td>\n",
       "      <td>-0.047596</td>\n",
       "      <td>-0.036695</td>\n",
       "      <td>-0.058708</td>\n",
       "      <td>-0.078556</td>\n",
       "      <td>-0.014158</td>\n",
       "      <td>-0.000148</td>\n",
       "      <td>0.016195</td>\n",
       "      <td>0.004347</td>\n",
       "      <td>-0.073197</td>\n",
       "      <td>0.022447</td>\n",
       "      <td>0.017970</td>\n",
       "      <td>-0.016420</td>\n",
       "      <td>-0.045191</td>\n",
       "    </tr>\n",
       "    <tr>\n",
       "      <th>founded_at</th>\n",
       "      <td>-0.032977</td>\n",
       "      <td>-0.047596</td>\n",
       "      <td>1.000000</td>\n",
       "      <td>0.138722</td>\n",
       "      <td>0.723726</td>\n",
       "      <td>0.571340</td>\n",
       "      <td>0.769350</td>\n",
       "      <td>0.797092</td>\n",
       "      <td>0.349535</td>\n",
       "      <td>0.365756</td>\n",
       "      <td>-0.028099</td>\n",
       "      <td>0.089485</td>\n",
       "      <td>0.054034</td>\n",
       "      <td>-0.211717</td>\n",
       "      <td>0.090776</td>\n",
       "    </tr>\n",
       "    <tr>\n",
       "      <th>closed_at</th>\n",
       "      <td>-0.059934</td>\n",
       "      <td>-0.036695</td>\n",
       "      <td>0.138722</td>\n",
       "      <td>1.000000</td>\n",
       "      <td>0.063649</td>\n",
       "      <td>0.235889</td>\n",
       "      <td>0.140744</td>\n",
       "      <td>-0.004671</td>\n",
       "      <td>0.219267</td>\n",
       "      <td>0.198864</td>\n",
       "      <td>-0.245533</td>\n",
       "      <td>-0.209912</td>\n",
       "      <td>-0.026497</td>\n",
       "      <td>-0.237989</td>\n",
       "      <td>-0.107982</td>\n",
       "    </tr>\n",
       "    <tr>\n",
       "      <th>first_funding_at</th>\n",
       "      <td>-0.000645</td>\n",
       "      <td>-0.058708</td>\n",
       "      <td>0.723726</td>\n",
       "      <td>0.063649</td>\n",
       "      <td>1.000000</td>\n",
       "      <td>0.632455</td>\n",
       "      <td>0.115953</td>\n",
       "      <td>0.415771</td>\n",
       "      <td>0.197812</td>\n",
       "      <td>0.238567</td>\n",
       "      <td>0.159198</td>\n",
       "      <td>0.307087</td>\n",
       "      <td>0.033945</td>\n",
       "      <td>-0.009543</td>\n",
       "      <td>0.017600</td>\n",
       "    </tr>\n",
       "    <tr>\n",
       "      <th>last_funding_at</th>\n",
       "      <td>0.002097</td>\n",
       "      <td>-0.078556</td>\n",
       "      <td>0.571340</td>\n",
       "      <td>0.235889</td>\n",
       "      <td>0.632455</td>\n",
       "      <td>1.000000</td>\n",
       "      <td>0.236864</td>\n",
       "      <td>-0.040183</td>\n",
       "      <td>0.249321</td>\n",
       "      <td>0.267165</td>\n",
       "      <td>-0.145820</td>\n",
       "      <td>-0.376548</td>\n",
       "      <td>-0.068753</td>\n",
       "      <td>-0.183282</td>\n",
       "      <td>-0.016820</td>\n",
       "    </tr>\n",
       "    <tr>\n",
       "      <th>age_first_funding_year</th>\n",
       "      <td>-0.046868</td>\n",
       "      <td>-0.014158</td>\n",
       "      <td>0.769350</td>\n",
       "      <td>0.140744</td>\n",
       "      <td>0.115953</td>\n",
       "      <td>0.236864</td>\n",
       "      <td>1.000000</td>\n",
       "      <td>0.762382</td>\n",
       "      <td>0.319974</td>\n",
       "      <td>0.305594</td>\n",
       "      <td>-0.187817</td>\n",
       "      <td>-0.155478</td>\n",
       "      <td>0.046350</td>\n",
       "      <td>-0.295894</td>\n",
       "      <td>0.114363</td>\n",
       "    </tr>\n",
       "    <tr>\n",
       "      <th>age_last_funding_year</th>\n",
       "      <td>-0.041692</td>\n",
       "      <td>-0.000148</td>\n",
       "      <td>0.797092</td>\n",
       "      <td>-0.004671</td>\n",
       "      <td>0.415771</td>\n",
       "      <td>-0.040183</td>\n",
       "      <td>0.762382</td>\n",
       "      <td>1.000000</td>\n",
       "      <td>0.242105</td>\n",
       "      <td>0.248724</td>\n",
       "      <td>0.073080</td>\n",
       "      <td>0.385999</td>\n",
       "      <td>0.116371</td>\n",
       "      <td>-0.122905</td>\n",
       "      <td>0.122893</td>\n",
       "    </tr>\n",
       "    <tr>\n",
       "      <th>age_first_milestone_year</th>\n",
       "      <td>-0.059929</td>\n",
       "      <td>0.016195</td>\n",
       "      <td>0.349535</td>\n",
       "      <td>0.219267</td>\n",
       "      <td>0.197812</td>\n",
       "      <td>0.249321</td>\n",
       "      <td>0.319974</td>\n",
       "      <td>0.242105</td>\n",
       "      <td>1.000000</td>\n",
       "      <td>0.981811</td>\n",
       "      <td>-0.190407</td>\n",
       "      <td>-0.053285</td>\n",
       "      <td>0.004486</td>\n",
       "      <td>-0.608177</td>\n",
       "      <td>0.001656</td>\n",
       "    </tr>\n",
       "    <tr>\n",
       "      <th>age_last_milestone_year</th>\n",
       "      <td>-0.057103</td>\n",
       "      <td>0.004347</td>\n",
       "      <td>0.365756</td>\n",
       "      <td>0.198864</td>\n",
       "      <td>0.238567</td>\n",
       "      <td>0.267165</td>\n",
       "      <td>0.305594</td>\n",
       "      <td>0.248724</td>\n",
       "      <td>0.981811</td>\n",
       "      <td>1.000000</td>\n",
       "      <td>-0.150604</td>\n",
       "      <td>-0.027538</td>\n",
       "      <td>0.015789</td>\n",
       "      <td>-0.512057</td>\n",
       "      <td>0.011337</td>\n",
       "    </tr>\n",
       "    <tr>\n",
       "      <th>relationships</th>\n",
       "      <td>-0.039198</td>\n",
       "      <td>-0.073197</td>\n",
       "      <td>-0.028099</td>\n",
       "      <td>-0.245533</td>\n",
       "      <td>0.159198</td>\n",
       "      <td>-0.145820</td>\n",
       "      <td>-0.187817</td>\n",
       "      <td>0.073080</td>\n",
       "      <td>-0.190407</td>\n",
       "      <td>-0.150604</td>\n",
       "      <td>1.000000</td>\n",
       "      <td>0.358883</td>\n",
       "      <td>0.093790</td>\n",
       "      <td>0.513835</td>\n",
       "      <td>0.115061</td>\n",
       "    </tr>\n",
       "    <tr>\n",
       "      <th>funding_rounds</th>\n",
       "      <td>-0.000659</td>\n",
       "      <td>0.022447</td>\n",
       "      <td>0.089485</td>\n",
       "      <td>-0.209912</td>\n",
       "      <td>0.307087</td>\n",
       "      <td>-0.376548</td>\n",
       "      <td>-0.155478</td>\n",
       "      <td>0.385999</td>\n",
       "      <td>-0.053285</td>\n",
       "      <td>-0.027538</td>\n",
       "      <td>0.358883</td>\n",
       "      <td>1.000000</td>\n",
       "      <td>0.115800</td>\n",
       "      <td>0.230162</td>\n",
       "      <td>0.043044</td>\n",
       "    </tr>\n",
       "    <tr>\n",
       "      <th>funding_total_usd</th>\n",
       "      <td>-0.072941</td>\n",
       "      <td>0.017970</td>\n",
       "      <td>0.054034</td>\n",
       "      <td>-0.026497</td>\n",
       "      <td>0.033945</td>\n",
       "      <td>-0.068753</td>\n",
       "      <td>0.046350</td>\n",
       "      <td>0.116371</td>\n",
       "      <td>0.004486</td>\n",
       "      <td>0.015789</td>\n",
       "      <td>0.093790</td>\n",
       "      <td>0.115800</td>\n",
       "      <td>1.000000</td>\n",
       "      <td>0.012056</td>\n",
       "      <td>0.046250</td>\n",
       "    </tr>\n",
       "    <tr>\n",
       "      <th>milestones</th>\n",
       "      <td>0.017708</td>\n",
       "      <td>-0.016420</td>\n",
       "      <td>-0.211717</td>\n",
       "      <td>-0.237989</td>\n",
       "      <td>-0.009543</td>\n",
       "      <td>-0.183282</td>\n",
       "      <td>-0.295894</td>\n",
       "      <td>-0.122905</td>\n",
       "      <td>-0.608177</td>\n",
       "      <td>-0.512057</td>\n",
       "      <td>0.513835</td>\n",
       "      <td>0.230162</td>\n",
       "      <td>0.012056</td>\n",
       "      <td>1.000000</td>\n",
       "      <td>0.043533</td>\n",
       "    </tr>\n",
       "    <tr>\n",
       "      <th>avg_participants</th>\n",
       "      <td>-0.018176</td>\n",
       "      <td>-0.045191</td>\n",
       "      <td>0.090776</td>\n",
       "      <td>-0.107982</td>\n",
       "      <td>0.017600</td>\n",
       "      <td>-0.016820</td>\n",
       "      <td>0.114363</td>\n",
       "      <td>0.122893</td>\n",
       "      <td>0.001656</td>\n",
       "      <td>0.011337</td>\n",
       "      <td>0.115061</td>\n",
       "      <td>0.043044</td>\n",
       "      <td>0.046250</td>\n",
       "      <td>0.043533</td>\n",
       "      <td>1.000000</td>\n",
       "    </tr>\n",
       "  </tbody>\n",
       "</table>\n",
       "</div>"
      ],
      "text/plain": [
       "                          latitude  longitude  founded_at  closed_at  \\\n",
       "latitude                  1.000000   0.368475   -0.032977  -0.059934   \n",
       "longitude                 0.368475   1.000000   -0.047596  -0.036695   \n",
       "founded_at               -0.032977  -0.047596    1.000000   0.138722   \n",
       "closed_at                -0.059934  -0.036695    0.138722   1.000000   \n",
       "first_funding_at         -0.000645  -0.058708    0.723726   0.063649   \n",
       "last_funding_at           0.002097  -0.078556    0.571340   0.235889   \n",
       "age_first_funding_year   -0.046868  -0.014158    0.769350   0.140744   \n",
       "age_last_funding_year    -0.041692  -0.000148    0.797092  -0.004671   \n",
       "age_first_milestone_year -0.059929   0.016195    0.349535   0.219267   \n",
       "age_last_milestone_year  -0.057103   0.004347    0.365756   0.198864   \n",
       "relationships            -0.039198  -0.073197   -0.028099  -0.245533   \n",
       "funding_rounds           -0.000659   0.022447    0.089485  -0.209912   \n",
       "funding_total_usd        -0.072941   0.017970    0.054034  -0.026497   \n",
       "milestones                0.017708  -0.016420   -0.211717  -0.237989   \n",
       "avg_participants         -0.018176  -0.045191    0.090776  -0.107982   \n",
       "\n",
       "                          first_funding_at  last_funding_at  \\\n",
       "latitude                         -0.000645         0.002097   \n",
       "longitude                        -0.058708        -0.078556   \n",
       "founded_at                        0.723726         0.571340   \n",
       "closed_at                         0.063649         0.235889   \n",
       "first_funding_at                  1.000000         0.632455   \n",
       "last_funding_at                   0.632455         1.000000   \n",
       "age_first_funding_year            0.115953         0.236864   \n",
       "age_last_funding_year             0.415771        -0.040183   \n",
       "age_first_milestone_year          0.197812         0.249321   \n",
       "age_last_milestone_year           0.238567         0.267165   \n",
       "relationships                     0.159198        -0.145820   \n",
       "funding_rounds                    0.307087        -0.376548   \n",
       "funding_total_usd                 0.033945        -0.068753   \n",
       "milestones                       -0.009543        -0.183282   \n",
       "avg_participants                  0.017600        -0.016820   \n",
       "\n",
       "                          age_first_funding_year  age_last_funding_year  \\\n",
       "latitude                               -0.046868              -0.041692   \n",
       "longitude                              -0.014158              -0.000148   \n",
       "founded_at                              0.769350               0.797092   \n",
       "closed_at                               0.140744              -0.004671   \n",
       "first_funding_at                        0.115953               0.415771   \n",
       "last_funding_at                         0.236864              -0.040183   \n",
       "age_first_funding_year                  1.000000               0.762382   \n",
       "age_last_funding_year                   0.762382               1.000000   \n",
       "age_first_milestone_year                0.319974               0.242105   \n",
       "age_last_milestone_year                 0.305594               0.248724   \n",
       "relationships                          -0.187817               0.073080   \n",
       "funding_rounds                         -0.155478               0.385999   \n",
       "funding_total_usd                       0.046350               0.116371   \n",
       "milestones                             -0.295894              -0.122905   \n",
       "avg_participants                        0.114363               0.122893   \n",
       "\n",
       "                          age_first_milestone_year  age_last_milestone_year  \\\n",
       "latitude                                 -0.059929                -0.057103   \n",
       "longitude                                 0.016195                 0.004347   \n",
       "founded_at                                0.349535                 0.365756   \n",
       "closed_at                                 0.219267                 0.198864   \n",
       "first_funding_at                          0.197812                 0.238567   \n",
       "last_funding_at                           0.249321                 0.267165   \n",
       "age_first_funding_year                    0.319974                 0.305594   \n",
       "age_last_funding_year                     0.242105                 0.248724   \n",
       "age_first_milestone_year                  1.000000                 0.981811   \n",
       "age_last_milestone_year                   0.981811                 1.000000   \n",
       "relationships                            -0.190407                -0.150604   \n",
       "funding_rounds                           -0.053285                -0.027538   \n",
       "funding_total_usd                         0.004486                 0.015789   \n",
       "milestones                               -0.608177                -0.512057   \n",
       "avg_participants                          0.001656                 0.011337   \n",
       "\n",
       "                          relationships  funding_rounds  funding_total_usd  \\\n",
       "latitude                      -0.039198       -0.000659          -0.072941   \n",
       "longitude                     -0.073197        0.022447           0.017970   \n",
       "founded_at                    -0.028099        0.089485           0.054034   \n",
       "closed_at                     -0.245533       -0.209912          -0.026497   \n",
       "first_funding_at               0.159198        0.307087           0.033945   \n",
       "last_funding_at               -0.145820       -0.376548          -0.068753   \n",
       "age_first_funding_year        -0.187817       -0.155478           0.046350   \n",
       "age_last_funding_year          0.073080        0.385999           0.116371   \n",
       "age_first_milestone_year      -0.190407       -0.053285           0.004486   \n",
       "age_last_milestone_year       -0.150604       -0.027538           0.015789   \n",
       "relationships                  1.000000        0.358883           0.093790   \n",
       "funding_rounds                 0.358883        1.000000           0.115800   \n",
       "funding_total_usd              0.093790        0.115800           1.000000   \n",
       "milestones                     0.513835        0.230162           0.012056   \n",
       "avg_participants               0.115061        0.043044           0.046250   \n",
       "\n",
       "                          milestones  avg_participants  \n",
       "latitude                    0.017708         -0.018176  \n",
       "longitude                  -0.016420         -0.045191  \n",
       "founded_at                 -0.211717          0.090776  \n",
       "closed_at                  -0.237989         -0.107982  \n",
       "first_funding_at           -0.009543          0.017600  \n",
       "last_funding_at            -0.183282         -0.016820  \n",
       "age_first_funding_year     -0.295894          0.114363  \n",
       "age_last_funding_year      -0.122905          0.122893  \n",
       "age_first_milestone_year   -0.608177          0.001656  \n",
       "age_last_milestone_year    -0.512057          0.011337  \n",
       "relationships               0.513835          0.115061  \n",
       "funding_rounds              0.230162          0.043044  \n",
       "funding_total_usd           0.012056          0.046250  \n",
       "milestones                  1.000000          0.043533  \n",
       "avg_participants            0.043533          1.000000  "
      ]
     },
     "execution_count": 30,
     "metadata": {},
     "output_type": "execute_result"
    }
   ],
   "source": [
    "df_train[cont_columns].corr()"
   ]
  },
  {
   "cell_type": "code",
   "execution_count": 31,
   "metadata": {},
   "outputs": [
    {
     "name": "stdout",
     "output_type": "stream",
     "text": [
      "latitude\n",
      "status\n",
      "acquired    37.779281\n",
      "closed      37.779281\n",
      "Name: latitude, dtype: float64\n",
      "=======================================\n",
      "longitude\n",
      "status\n",
      "acquired   -121.940842\n",
      "closed     -117.164363\n",
      "Name: longitude, dtype: float64\n",
      "=======================================\n",
      "founded_at\n",
      "status\n",
      "acquired    2662.0\n",
      "closed      2511.0\n",
      "Name: founded_at, dtype: float64\n",
      "=======================================\n",
      "closed_at\n",
      "status\n",
      "acquired     -1.0\n",
      "closed      605.5\n",
      "Name: closed_at, dtype: float64\n",
      "=======================================\n",
      "first_funding_at\n",
      "status\n",
      "acquired    2351.0\n",
      "closed      2110.5\n",
      "Name: first_funding_at, dtype: float64\n",
      "=======================================\n",
      "last_funding_at\n",
      "status\n",
      "acquired    1413.0\n",
      "closed      1491.5\n",
      "Name: last_funding_at, dtype: float64\n",
      "=======================================\n",
      "age_first_funding_year\n",
      "status\n",
      "acquired    1.4466\n",
      "closed      1.4384\n",
      "Name: age_first_funding_year, dtype: float64\n",
      "=======================================\n",
      "age_last_funding_year\n",
      "status\n",
      "acquired    3.7562\n",
      "closed      2.7192\n",
      "Name: age_last_funding_year, dtype: float64\n",
      "=======================================\n",
      "age_first_milestone_year\n",
      "status\n",
      "acquired    3.0877\n",
      "closed      3.4548\n",
      "Name: age_first_milestone_year, dtype: float64\n",
      "=======================================\n",
      "age_last_milestone_year\n",
      "status\n",
      "acquired    5.2438\n",
      "closed      5.0027\n",
      "Name: age_last_milestone_year, dtype: float64\n",
      "=======================================\n",
      "relationships\n",
      "status\n",
      "acquired    7\n",
      "closed      3\n",
      "Name: relationships, dtype: int64\n",
      "=======================================\n",
      "funding_rounds\n",
      "status\n",
      "acquired    2\n",
      "closed      2\n",
      "Name: funding_rounds, dtype: int64\n",
      "=======================================\n",
      "funding_total_usd\n",
      "status\n",
      "acquired    12700000\n",
      "closed       5000000\n",
      "Name: funding_total_usd, dtype: int64\n",
      "=======================================\n",
      "milestones\n",
      "status\n",
      "acquired    2\n",
      "closed      1\n",
      "Name: milestones, dtype: int64\n",
      "=======================================\n",
      "avg_participants\n",
      "status\n",
      "acquired    2.6667\n",
      "closed      2.0000\n",
      "Name: avg_participants, dtype: float64\n",
      "=======================================\n"
     ]
    }
   ],
   "source": [
    "for column in cont_columns:\n",
    "    print(column)\n",
    "    grp = df_train.groupby([\"status\"])\n",
    "    print(grp[column].median())\n",
    "    print(\"=======================================\")"
   ]
  },
  {
   "cell_type": "markdown",
   "metadata": {},
   "source": [
    "# age_last_funding_year, closed_at, relationships, funding_total_usd, milestones affect the target value the most"
   ]
  },
  {
   "cell_type": "markdown",
   "metadata": {},
   "source": [
    "# Hence we shall be encoding and ranking all categorical columns based on the \"closed_at\" variable "
   ]
  },
  {
   "cell_type": "code",
   "execution_count": 32,
   "metadata": {},
   "outputs": [],
   "source": [
    "df_copy = df_train.copy()"
   ]
  },
  {
   "cell_type": "code",
   "execution_count": 33,
   "metadata": {},
   "outputs": [],
   "source": [
    "def encoder(cat, cont):\n",
    "    print(f\"{cat} relation with {cont}\")\n",
    "    grp = df_train.groupby([cat])\n",
    "    lst = grp[cont].median().sort_values().index\n",
    "    feature_map = {lst[i]: i for i in range(len(lst))}\n",
    "    df_train[cat] = df_train[cat].map(feature_map)\n",
    "    df_test[cat] = df_test[cat].map(feature_map)\n",
    "    print(\"Order:\", lst) "
   ]
  },
  {
   "cell_type": "code",
   "execution_count": 34,
   "metadata": {},
   "outputs": [],
   "source": [
    "# def test_test(column):\n",
    "#     print(f\"======={column}======\")\n",
    "#     for i in df_test[column].value_counts().index:\n",
    "#         if i not in df_test[column].value_counts().index:\n",
    "#             print(i)"
   ]
  },
  {
   "cell_type": "code",
   "execution_count": 35,
   "metadata": {},
   "outputs": [
    {
     "name": "stdout",
     "output_type": "stream",
     "text": [
      "state_code relation with closed_at\n",
      "Order: Index(['VA', 'TX', 'CA', 'CO', 'WA', 'OR', 'TN', 'GA', 'MN', 'NY', 'MD', 'RI',\n",
      "       'MA', 'IL', 'DC', 'ME', 'NJ', 'PA', 'ID', 'IN', 'MI', 'OH', 'AZ', 'KY',\n",
      "       'FL', 'NC', 'NH', 'WI', 'AR', 'UT', 'NV', 'NM', 'MO', 'CT', 'WV'],\n",
      "      dtype='object', name='state_code')\n",
      "is_CA relation with closed_at\n",
      "Order: Int64Index([0, 1], dtype='int64', name='is_CA')\n",
      "is_NY relation with closed_at\n",
      "Order: Int64Index([0, 1], dtype='int64', name='is_NY')\n",
      "is_MA relation with closed_at\n",
      "Order: Int64Index([0, 1], dtype='int64', name='is_MA')\n",
      "is_TX relation with closed_at\n",
      "Order: Int64Index([0, 1], dtype='int64', name='is_TX')\n",
      "is_otherstate relation with closed_at\n",
      "Order: Int64Index([0, 1], dtype='int64', name='is_otherstate')\n",
      "category_code relation with closed_at\n",
      "Order: Index(['advertising', 'transportation', 'sports', 'software', 'semiconductor',\n",
      "       'security', 'search', 'photo_video', 'news', 'network_hosting', 'music',\n",
      "       'mobile', 'travel', 'medical', 'messaging', 'web', 'health',\n",
      "       'analytics', 'games_video', 'finance', 'fashion', 'enterprise',\n",
      "       'biotech', 'education', 'hospitality', 'consulting', 'social',\n",
      "       'manufacturing', 'hardware', 'ecommerce', 'cleantech', 'real_estate',\n",
      "       'automotive', 'public_relations', 'other'],\n",
      "      dtype='object', name='category_code')\n",
      "is_software relation with closed_at\n",
      "Order: Int64Index([0, 1], dtype='int64', name='is_software')\n",
      "is_web relation with closed_at\n",
      "Order: Int64Index([0, 1], dtype='int64', name='is_web')\n",
      "is_mobile relation with closed_at\n",
      "Order: Int64Index([0, 1], dtype='int64', name='is_mobile')\n",
      "is_enterprise relation with closed_at\n",
      "Order: Int64Index([0, 1], dtype='int64', name='is_enterprise')\n",
      "is_advertising relation with closed_at\n",
      "Order: Int64Index([0, 1], dtype='int64', name='is_advertising')\n",
      "is_gamesvideo relation with closed_at\n",
      "Order: Int64Index([0, 1], dtype='int64', name='is_gamesvideo')\n",
      "is_ecommerce relation with closed_at\n",
      "Order: Int64Index([0, 1], dtype='int64', name='is_ecommerce')\n",
      "is_biotech relation with closed_at\n",
      "Order: Int64Index([0, 1], dtype='int64', name='is_biotech')\n",
      "is_consulting relation with closed_at\n",
      "Order: Int64Index([0, 1], dtype='int64', name='is_consulting')\n",
      "is_othercategory relation with closed_at\n",
      "Order: Int64Index([0, 1], dtype='int64', name='is_othercategory')\n",
      "has_VC relation with closed_at\n",
      "Order: Int64Index([0, 1], dtype='int64', name='has_VC')\n",
      "has_angel relation with closed_at\n",
      "Order: Int64Index([0, 1], dtype='int64', name='has_angel')\n",
      "has_roundA relation with closed_at\n",
      "Order: Int64Index([0, 1], dtype='int64', name='has_roundA')\n",
      "has_roundB relation with closed_at\n",
      "Order: Int64Index([0, 1], dtype='int64', name='has_roundB')\n",
      "has_roundC relation with closed_at\n",
      "Order: Int64Index([0, 1], dtype='int64', name='has_roundC')\n",
      "has_roundD relation with closed_at\n",
      "Order: Int64Index([0, 1], dtype='int64', name='has_roundD')\n",
      "is_top500 relation with closed_at\n",
      "Order: Int64Index([1, 0], dtype='int64', name='is_top500')\n",
      "is_closed relation with closed_at\n",
      "Order: Int64Index([0, 1], dtype='int64', name='is_closed')\n",
      "got_milestone relation with closed_at\n",
      "Order: Int64Index([1, 0], dtype='int64', name='got_milestone')\n"
     ]
    }
   ],
   "source": [
    "for column in cat_columns:\n",
    "    encoder(column, \"closed_at\")"
   ]
  },
  {
   "cell_type": "code",
   "execution_count": 36,
   "metadata": {},
   "outputs": [
    {
     "data": {
      "text/html": [
       "<div>\n",
       "<style scoped>\n",
       "    .dataframe tbody tr th:only-of-type {\n",
       "        vertical-align: middle;\n",
       "    }\n",
       "\n",
       "    .dataframe tbody tr th {\n",
       "        vertical-align: top;\n",
       "    }\n",
       "\n",
       "    .dataframe thead th {\n",
       "        text-align: right;\n",
       "    }\n",
       "</style>\n",
       "<table border=\"1\" class=\"dataframe\">\n",
       "  <thead>\n",
       "    <tr style=\"text-align: right;\">\n",
       "      <th></th>\n",
       "      <th>state_code</th>\n",
       "      <th>is_CA</th>\n",
       "      <th>is_NY</th>\n",
       "      <th>is_MA</th>\n",
       "      <th>is_TX</th>\n",
       "      <th>is_otherstate</th>\n",
       "      <th>category_code</th>\n",
       "      <th>is_software</th>\n",
       "      <th>is_web</th>\n",
       "      <th>is_mobile</th>\n",
       "      <th>...</th>\n",
       "      <th>is_othercategory</th>\n",
       "      <th>has_VC</th>\n",
       "      <th>has_angel</th>\n",
       "      <th>has_roundA</th>\n",
       "      <th>has_roundB</th>\n",
       "      <th>has_roundC</th>\n",
       "      <th>has_roundD</th>\n",
       "      <th>is_top500</th>\n",
       "      <th>is_closed</th>\n",
       "      <th>got_milestone</th>\n",
       "    </tr>\n",
       "  </thead>\n",
       "  <tbody>\n",
       "    <tr>\n",
       "      <th>0</th>\n",
       "      <td>2</td>\n",
       "      <td>1</td>\n",
       "      <td>0</td>\n",
       "      <td>0</td>\n",
       "      <td>0</td>\n",
       "      <td>0</td>\n",
       "      <td>10</td>\n",
       "      <td>0</td>\n",
       "      <td>0</td>\n",
       "      <td>0</td>\n",
       "      <td>...</td>\n",
       "      <td>1</td>\n",
       "      <td>0</td>\n",
       "      <td>1</td>\n",
       "      <td>0</td>\n",
       "      <td>0</td>\n",
       "      <td>0</td>\n",
       "      <td>0</td>\n",
       "      <td>1</td>\n",
       "      <td>0</td>\n",
       "      <td>0</td>\n",
       "    </tr>\n",
       "    <tr>\n",
       "      <th>1</th>\n",
       "      <td>2</td>\n",
       "      <td>1</td>\n",
       "      <td>0</td>\n",
       "      <td>0</td>\n",
       "      <td>0</td>\n",
       "      <td>0</td>\n",
       "      <td>21</td>\n",
       "      <td>0</td>\n",
       "      <td>0</td>\n",
       "      <td>0</td>\n",
       "      <td>...</td>\n",
       "      <td>0</td>\n",
       "      <td>1</td>\n",
       "      <td>0</td>\n",
       "      <td>0</td>\n",
       "      <td>1</td>\n",
       "      <td>1</td>\n",
       "      <td>1</td>\n",
       "      <td>0</td>\n",
       "      <td>0</td>\n",
       "      <td>0</td>\n",
       "    </tr>\n",
       "    <tr>\n",
       "      <th>2</th>\n",
       "      <td>2</td>\n",
       "      <td>1</td>\n",
       "      <td>0</td>\n",
       "      <td>0</td>\n",
       "      <td>0</td>\n",
       "      <td>0</td>\n",
       "      <td>15</td>\n",
       "      <td>0</td>\n",
       "      <td>1</td>\n",
       "      <td>0</td>\n",
       "      <td>...</td>\n",
       "      <td>0</td>\n",
       "      <td>0</td>\n",
       "      <td>0</td>\n",
       "      <td>1</td>\n",
       "      <td>0</td>\n",
       "      <td>0</td>\n",
       "      <td>0</td>\n",
       "      <td>0</td>\n",
       "      <td>0</td>\n",
       "      <td>0</td>\n",
       "    </tr>\n",
       "    <tr>\n",
       "      <th>3</th>\n",
       "      <td>2</td>\n",
       "      <td>1</td>\n",
       "      <td>0</td>\n",
       "      <td>0</td>\n",
       "      <td>0</td>\n",
       "      <td>0</td>\n",
       "      <td>3</td>\n",
       "      <td>1</td>\n",
       "      <td>0</td>\n",
       "      <td>0</td>\n",
       "      <td>...</td>\n",
       "      <td>0</td>\n",
       "      <td>0</td>\n",
       "      <td>0</td>\n",
       "      <td>0</td>\n",
       "      <td>1</td>\n",
       "      <td>1</td>\n",
       "      <td>1</td>\n",
       "      <td>0</td>\n",
       "      <td>0</td>\n",
       "      <td>0</td>\n",
       "    </tr>\n",
       "    <tr>\n",
       "      <th>4</th>\n",
       "      <td>2</td>\n",
       "      <td>1</td>\n",
       "      <td>0</td>\n",
       "      <td>0</td>\n",
       "      <td>0</td>\n",
       "      <td>0</td>\n",
       "      <td>18</td>\n",
       "      <td>0</td>\n",
       "      <td>0</td>\n",
       "      <td>0</td>\n",
       "      <td>...</td>\n",
       "      <td>0</td>\n",
       "      <td>1</td>\n",
       "      <td>1</td>\n",
       "      <td>0</td>\n",
       "      <td>0</td>\n",
       "      <td>0</td>\n",
       "      <td>0</td>\n",
       "      <td>0</td>\n",
       "      <td>1</td>\n",
       "      <td>0</td>\n",
       "    </tr>\n",
       "  </tbody>\n",
       "</table>\n",
       "<p>5 rows × 26 columns</p>\n",
       "</div>"
      ],
      "text/plain": [
       "   state_code  is_CA  is_NY  is_MA  is_TX  is_otherstate  category_code  \\\n",
       "0           2      1      0      0      0              0             10   \n",
       "1           2      1      0      0      0              0             21   \n",
       "2           2      1      0      0      0              0             15   \n",
       "3           2      1      0      0      0              0              3   \n",
       "4           2      1      0      0      0              0             18   \n",
       "\n",
       "   is_software  is_web  is_mobile  ...  is_othercategory  has_VC  has_angel  \\\n",
       "0            0       0          0  ...                 1       0          1   \n",
       "1            0       0          0  ...                 0       1          0   \n",
       "2            0       1          0  ...                 0       0          0   \n",
       "3            1       0          0  ...                 0       0          0   \n",
       "4            0       0          0  ...                 0       1          1   \n",
       "\n",
       "   has_roundA  has_roundB  has_roundC  has_roundD  is_top500  is_closed  \\\n",
       "0           0           0           0           0          1          0   \n",
       "1           0           1           1           1          0          0   \n",
       "2           1           0           0           0          0          0   \n",
       "3           0           1           1           1          0          0   \n",
       "4           0           0           0           0          0          1   \n",
       "\n",
       "   got_milestone  \n",
       "0              0  \n",
       "1              0  \n",
       "2              0  \n",
       "3              0  \n",
       "4              0  \n",
       "\n",
       "[5 rows x 26 columns]"
      ]
     },
     "execution_count": 36,
     "metadata": {},
     "output_type": "execute_result"
    }
   ],
   "source": [
    "df_train[cat_columns].head()"
   ]
  },
  {
   "cell_type": "code",
   "execution_count": 37,
   "metadata": {},
   "outputs": [
    {
     "data": {
      "text/html": [
       "<div>\n",
       "<style scoped>\n",
       "    .dataframe tbody tr th:only-of-type {\n",
       "        vertical-align: middle;\n",
       "    }\n",
       "\n",
       "    .dataframe tbody tr th {\n",
       "        vertical-align: top;\n",
       "    }\n",
       "\n",
       "    .dataframe thead th {\n",
       "        text-align: right;\n",
       "    }\n",
       "</style>\n",
       "<table border=\"1\" class=\"dataframe\">\n",
       "  <thead>\n",
       "    <tr style=\"text-align: right;\">\n",
       "      <th></th>\n",
       "      <th>state_code</th>\n",
       "      <th>is_CA</th>\n",
       "      <th>is_NY</th>\n",
       "      <th>is_MA</th>\n",
       "      <th>is_TX</th>\n",
       "      <th>is_otherstate</th>\n",
       "      <th>category_code</th>\n",
       "      <th>is_software</th>\n",
       "      <th>is_web</th>\n",
       "      <th>is_mobile</th>\n",
       "      <th>...</th>\n",
       "      <th>is_othercategory</th>\n",
       "      <th>has_VC</th>\n",
       "      <th>has_angel</th>\n",
       "      <th>has_roundA</th>\n",
       "      <th>has_roundB</th>\n",
       "      <th>has_roundC</th>\n",
       "      <th>has_roundD</th>\n",
       "      <th>is_top500</th>\n",
       "      <th>is_closed</th>\n",
       "      <th>got_milestone</th>\n",
       "    </tr>\n",
       "  </thead>\n",
       "  <tbody>\n",
       "    <tr>\n",
       "      <th>0</th>\n",
       "      <td>33.0</td>\n",
       "      <td>0</td>\n",
       "      <td>0</td>\n",
       "      <td>0</td>\n",
       "      <td>0</td>\n",
       "      <td>1</td>\n",
       "      <td>11</td>\n",
       "      <td>0</td>\n",
       "      <td>0</td>\n",
       "      <td>1</td>\n",
       "      <td>...</td>\n",
       "      <td>0</td>\n",
       "      <td>0</td>\n",
       "      <td>1</td>\n",
       "      <td>1</td>\n",
       "      <td>1</td>\n",
       "      <td>0</td>\n",
       "      <td>0</td>\n",
       "      <td>0</td>\n",
       "      <td>1</td>\n",
       "      <td>1</td>\n",
       "    </tr>\n",
       "    <tr>\n",
       "      <th>1</th>\n",
       "      <td>2.0</td>\n",
       "      <td>1</td>\n",
       "      <td>0</td>\n",
       "      <td>0</td>\n",
       "      <td>0</td>\n",
       "      <td>0</td>\n",
       "      <td>13</td>\n",
       "      <td>0</td>\n",
       "      <td>0</td>\n",
       "      <td>0</td>\n",
       "      <td>...</td>\n",
       "      <td>1</td>\n",
       "      <td>0</td>\n",
       "      <td>0</td>\n",
       "      <td>0</td>\n",
       "      <td>0</td>\n",
       "      <td>0</td>\n",
       "      <td>1</td>\n",
       "      <td>0</td>\n",
       "      <td>1</td>\n",
       "      <td>0</td>\n",
       "    </tr>\n",
       "    <tr>\n",
       "      <th>2</th>\n",
       "      <td>16.0</td>\n",
       "      <td>0</td>\n",
       "      <td>0</td>\n",
       "      <td>0</td>\n",
       "      <td>0</td>\n",
       "      <td>1</td>\n",
       "      <td>3</td>\n",
       "      <td>1</td>\n",
       "      <td>0</td>\n",
       "      <td>0</td>\n",
       "      <td>...</td>\n",
       "      <td>0</td>\n",
       "      <td>0</td>\n",
       "      <td>0</td>\n",
       "      <td>0</td>\n",
       "      <td>1</td>\n",
       "      <td>1</td>\n",
       "      <td>0</td>\n",
       "      <td>1</td>\n",
       "      <td>1</td>\n",
       "      <td>0</td>\n",
       "    </tr>\n",
       "    <tr>\n",
       "      <th>3</th>\n",
       "      <td>2.0</td>\n",
       "      <td>1</td>\n",
       "      <td>0</td>\n",
       "      <td>0</td>\n",
       "      <td>0</td>\n",
       "      <td>0</td>\n",
       "      <td>6</td>\n",
       "      <td>0</td>\n",
       "      <td>0</td>\n",
       "      <td>0</td>\n",
       "      <td>...</td>\n",
       "      <td>1</td>\n",
       "      <td>0</td>\n",
       "      <td>0</td>\n",
       "      <td>1</td>\n",
       "      <td>0</td>\n",
       "      <td>0</td>\n",
       "      <td>0</td>\n",
       "      <td>1</td>\n",
       "      <td>1</td>\n",
       "      <td>0</td>\n",
       "    </tr>\n",
       "    <tr>\n",
       "      <th>4</th>\n",
       "      <td>2.0</td>\n",
       "      <td>1</td>\n",
       "      <td>0</td>\n",
       "      <td>0</td>\n",
       "      <td>0</td>\n",
       "      <td>0</td>\n",
       "      <td>22</td>\n",
       "      <td>0</td>\n",
       "      <td>0</td>\n",
       "      <td>0</td>\n",
       "      <td>...</td>\n",
       "      <td>0</td>\n",
       "      <td>0</td>\n",
       "      <td>0</td>\n",
       "      <td>0</td>\n",
       "      <td>0</td>\n",
       "      <td>1</td>\n",
       "      <td>1</td>\n",
       "      <td>0</td>\n",
       "      <td>1</td>\n",
       "      <td>1</td>\n",
       "    </tr>\n",
       "  </tbody>\n",
       "</table>\n",
       "<p>5 rows × 26 columns</p>\n",
       "</div>"
      ],
      "text/plain": [
       "   state_code  is_CA  is_NY  is_MA  is_TX  is_otherstate  category_code  \\\n",
       "0        33.0      0      0      0      0              1             11   \n",
       "1         2.0      1      0      0      0              0             13   \n",
       "2        16.0      0      0      0      0              1              3   \n",
       "3         2.0      1      0      0      0              0              6   \n",
       "4         2.0      1      0      0      0              0             22   \n",
       "\n",
       "   is_software  is_web  is_mobile  ...  is_othercategory  has_VC  has_angel  \\\n",
       "0            0       0          1  ...                 0       0          1   \n",
       "1            0       0          0  ...                 1       0          0   \n",
       "2            1       0          0  ...                 0       0          0   \n",
       "3            0       0          0  ...                 1       0          0   \n",
       "4            0       0          0  ...                 0       0          0   \n",
       "\n",
       "   has_roundA  has_roundB  has_roundC  has_roundD  is_top500  is_closed  \\\n",
       "0           1           1           0           0          0          1   \n",
       "1           0           0           0           1          0          1   \n",
       "2           0           1           1           0          1          1   \n",
       "3           1           0           0           0          1          1   \n",
       "4           0           0           1           1          0          1   \n",
       "\n",
       "   got_milestone  \n",
       "0              1  \n",
       "1              0  \n",
       "2              0  \n",
       "3              0  \n",
       "4              1  \n",
       "\n",
       "[5 rows x 26 columns]"
      ]
     },
     "execution_count": 37,
     "metadata": {},
     "output_type": "execute_result"
    }
   ],
   "source": [
    "df_test[cat_columns].head()"
   ]
  },
  {
   "cell_type": "code",
   "execution_count": 38,
   "metadata": {},
   "outputs": [],
   "source": [
    "df_train[cont_columns] = df_train[cont_columns].astype(int)\n",
    "df_test[cont_columns] = df_test[cont_columns].astype(int)"
   ]
  },
  {
   "cell_type": "code",
   "execution_count": 39,
   "metadata": {},
   "outputs": [
    {
     "name": "stdout",
     "output_type": "stream",
     "text": [
      "<class 'pandas.core.frame.DataFrame'>\n",
      "RangeIndex: 923 entries, 0 to 922\n",
      "Data columns (total 15 columns):\n",
      " #   Column                    Non-Null Count  Dtype\n",
      "---  ------                    --------------  -----\n",
      " 0   latitude                  923 non-null    int32\n",
      " 1   longitude                 923 non-null    int32\n",
      " 2   founded_at                923 non-null    int32\n",
      " 3   closed_at                 923 non-null    int32\n",
      " 4   first_funding_at          923 non-null    int32\n",
      " 5   last_funding_at           923 non-null    int32\n",
      " 6   age_first_funding_year    923 non-null    int32\n",
      " 7   age_last_funding_year     923 non-null    int32\n",
      " 8   age_first_milestone_year  923 non-null    int32\n",
      " 9   age_last_milestone_year   923 non-null    int32\n",
      " 10  relationships             923 non-null    int32\n",
      " 11  funding_rounds            923 non-null    int32\n",
      " 12  funding_total_usd         923 non-null    int32\n",
      " 13  milestones                923 non-null    int32\n",
      " 14  avg_participants          923 non-null    int32\n",
      "dtypes: int32(15)\n",
      "memory usage: 54.2 KB\n"
     ]
    }
   ],
   "source": [
    "df_train[cont_columns].info()"
   ]
  },
  {
   "cell_type": "code",
   "execution_count": 40,
   "metadata": {},
   "outputs": [],
   "source": [
    "df_train.drop(df_train[df_train.longitude > -20].index, inplace = True)"
   ]
  },
  {
   "cell_type": "code",
   "execution_count": 41,
   "metadata": {},
   "outputs": [],
   "source": [
    "df_train.longitude = -df_train.longitude\n",
    "df_train.age_first_funding_year = df_train.age_first_funding_year +10\n",
    "df_train.age_last_funding_year = df_train.age_last_funding_year +10\n",
    "df_train.age_first_milestone_year = df_train.age_first_milestone_year +15\n",
    "df_train.age_last_milestone_year = df_train.age_last_milestone_year +15"
   ]
  },
  {
   "cell_type": "code",
   "execution_count": 42,
   "metadata": {},
   "outputs": [],
   "source": [
    "df_test.longitude = -df_test.longitude\n",
    "df_test.age_first_funding_year = df_test.age_first_funding_year +10\n",
    "df_test.age_last_funding_year = df_test.age_last_funding_year +10\n",
    "df_test.age_first_milestone_year = df_test.age_first_milestone_year +15\n",
    "df_test.age_last_milestone_year = df_test.age_last_milestone_year +15"
   ]
  },
  {
   "cell_type": "markdown",
   "metadata": {},
   "source": [
    "# Balancing the continuous data"
   ]
  },
  {
   "cell_type": "code",
   "execution_count": 43,
   "metadata": {},
   "outputs": [
    {
     "data": {
      "image/png": "[encoded data removed]",
      "text/plain": [
       "<Figure size 432x288 with 1 Axes>"
      ]
     },
     "metadata": {
      "needs_background": "light"
     },
     "output_type": "display_data"
    },
    {
     "data": {
      "image/png": "[encoded data removed]",
      "text/plain": [
       "<Figure size 432x288 with 1 Axes>"
      ]
     },
     "metadata": {
      "needs_background": "light"
     },
     "output_type": "display_data"
    },
    {
     "data": {
      "image/png": "[encoded data removed]",
      "text/plain": [
       "<Figure size 432x288 with 1 Axes>"
      ]
     },
     "metadata": {
      "needs_background": "light"
     },
     "output_type": "display_data"
    },
    {
     "data": {
      "image/png": "[encoded data removed]",
      "text/plain": [
       "<Figure size 432x288 with 1 Axes>"
      ]
     },
     "metadata": {
      "needs_background": "light"
     },
     "output_type": "display_data"
    },
    {
     "data": {
      "image/png": "[encoded data removed]",
      "text/plain": [
       "<Figure size 432x288 with 1 Axes>"
      ]
     },
     "metadata": {
      "needs_background": "light"
     },
     "output_type": "display_data"
    },
    {
     "data": {
      "image/png": "[encoded data removed]",
      "text/plain": [
       "<Figure size 432x288 with 1 Axes>"
      ]
     },
     "metadata": {
      "needs_background": "light"
     },
     "output_type": "display_data"
    },
    {
     "data": {
      "image/png": "[encoded data removed]",
      "text/plain": [
       "<Figure size 432x288 with 1 Axes>"
      ]
     },
     "metadata": {
      "needs_background": "light"
     },
     "output_type": "display_data"
    },
    {
     "data": {
      "image/png": "[encoded data removed]",
      "text/plain": [
       "<Figure size 432x288 with 1 Axes>"
      ]
     },
     "metadata": {
      "needs_background": "light"
     },
     "output_type": "display_data"
    },
    {
     "data": {
      "image/png": "[encoded data removed]",
      "text/plain": [
       "<Figure size 432x288 with 1 Axes>"
      ]
     },
     "metadata": {
      "needs_background": "light"
     },
     "output_type": "display_data"
    },
    {
     "data": {
      "image/png": "[encoded data removed]",
      "text/plain": [
       "<Figure size 432x288 with 1 Axes>"
      ]
     },
     "metadata": {
      "needs_background": "light"
     },
     "output_type": "display_data"
    },
    {
     "data": {
      "image/png": "[encoded data removed]",
      "text/plain": [
       "<Figure size 432x288 with 1 Axes>"
      ]
     },
     "metadata": {
      "needs_background": "light"
     },
     "output_type": "display_data"
    },
    {
     "data": {
      "image/png": "[encoded data removed]",
      "text/plain": [
       "<Figure size 432x288 with 1 Axes>"
      ]
     },
     "metadata": {
      "needs_background": "light"
     },
     "output_type": "display_data"
    },
    {
     "data": {
      "image/png": "[encoded data removed]",
      "text/plain": [
       "<Figure size 432x288 with 1 Axes>"
      ]
     },
     "metadata": {
      "needs_background": "light"
     },
     "output_type": "display_data"
    },
    {
     "data": {
      "image/png": "[encoded data removed]",
      "text/plain": [
       "<Figure size 432x288 with 1 Axes>"
      ]
     },
     "metadata": {
      "needs_background": "light"
     },
     "output_type": "display_data"
    },
    {
     "data": {
      "image/png": "[encoded data removed]",
      "text/plain": [
       "<Figure size 432x288 with 1 Axes>"
      ]
     },
     "metadata": {
      "needs_background": "light"
     },
     "output_type": "display_data"
    }
   ],
   "source": [
    "for column in cont_columns:\n",
    "    df_train[column] = df_train[column].map(lambda i: np.log(i) if i > 0 else 0)\n",
    "    df_test[column] = df_test[column].map(lambda i: np.log(i) if i > 0 else 0)\n",
    "    df_test.boxplot([column])\n",
    "    plt.show()"
   ]
  },
  {
   "cell_type": "code",
   "execution_count": 44,
   "metadata": {},
   "outputs": [
    {
     "data": {
      "text/plain": [
       "Series([], Name: funding_rounds, dtype: int64)"
      ]
     },
     "execution_count": 44,
     "metadata": {},
     "output_type": "execute_result"
    }
   ],
   "source": [
    "df_train[df_train.funding_rounds<0].funding_rounds.value_counts()"
   ]
  },
  {
   "cell_type": "code",
   "execution_count": 45,
   "metadata": {},
   "outputs": [],
   "source": [
    "features = df_train.drop(columns=[\"status\"]).columns\n",
    "label_mapping = {'acquired': 1, 'closed': 0}\n",
    "df_train[\"status\"] = df_train[\"status\"].map(label_mapping)"
   ]
  },
  {
   "cell_type": "code",
   "execution_count": 46,
   "metadata": {},
   "outputs": [],
   "source": [
    "X = df_train[features]\n",
    "y = df_train[[\"status\"]]"
   ]
  },
  {
   "cell_type": "code",
   "execution_count": 47,
   "metadata": {},
   "outputs": [],
   "source": [
    "X1 = sm.add_constant(X)\n",
    "Logistic = sm.Logit(y, X1)"
   ]
  },
  {
   "cell_type": "code",
   "execution_count": 48,
   "metadata": {},
   "outputs": [],
   "source": [
    "features = df_train.drop(columns=[\"status\"]).columns\n",
    "X = df_train[features]\n",
    "y = df_train[\"status\"]"
   ]
  },
  {
   "cell_type": "code",
   "execution_count": 49,
   "metadata": {},
   "outputs": [],
   "source": [
    "X_train, X_test, y_train, y_test = train_test_split(X, y, test_size=0.2, random_state = 0)"
   ]
  },
  {
   "cell_type": "code",
   "execution_count": 50,
   "metadata": {},
   "outputs": [
    {
     "data": {
      "text/plain": [
       "98.91304347826086"
      ]
     },
     "execution_count": 50,
     "metadata": {},
     "output_type": "execute_result"
    }
   ],
   "source": [
    "features0 = features\n",
    "X_train0 = X_train[features0]\n",
    "X_test0 = X_test[features0]\n",
    "log_reg = LogisticRegression(max_iter=1000)\n",
    "log_reg.fit(X_train0, y_train).score(X_test0, y_test)*100"
   ]
  },
  {
   "cell_type": "code",
   "execution_count": 51,
   "metadata": {},
   "outputs": [],
   "source": [
    "def bagging(model):\n",
    "    bgr = BaggingClassifier(base_estimator=model, n_estimators=100)\n",
    "    print(bgr.fit(X_train, y_train).score(X_test, y_test)*100)\n",
    "def ada_boost(model):\n",
    "    ada = AdaBoostClassifier(base_estimator=model,n_estimators=100)\n",
    "    print(ada.fit(X_train, y_train).score(X_test, y_test)*100)"
   ]
  },
  {
   "cell_type": "code",
   "execution_count": 52,
   "metadata": {},
   "outputs": [
    {
     "name": "stdout",
     "output_type": "stream",
     "text": [
      "98.91304347826086\n"
     ]
    }
   ],
   "source": [
    "bagging(log_reg)"
   ]
  },
  {
   "cell_type": "code",
   "execution_count": 53,
   "metadata": {},
   "outputs": [
    {
     "name": "stdout",
     "output_type": "stream",
     "text": [
      "98.91304347826086\n",
      "Accuracy: 98.91156462585035\n"
     ]
    }
   ],
   "source": [
    "features1 = features\n",
    "X_train1 = X_train[features]\n",
    "X_test1 = X_test[features]\n",
    "rf = RandomForestClassifier(n_estimators=1000, oob_score=True, max_depth=8)\n",
    "print(rf.fit(X_train1, y_train).score(X_test1, y_test)*100)\n",
    "print(\"Accuracy:\", rf.oob_score_*100)"
   ]
  },
  {
   "cell_type": "code",
   "execution_count": 54,
   "metadata": {},
   "outputs": [
    {
     "name": "stdout",
     "output_type": "stream",
     "text": [
      "98.91304347826086\n"
     ]
    }
   ],
   "source": [
    "gb = GradientBoostingClassifier(n_estimators=1000, max_leaf_nodes=11, max_depth=10)\n",
    "print(gb.fit(X_train1, y_train).score(X_test1, y_test)*100)"
   ]
  },
  {
   "cell_type": "code",
   "execution_count": 55,
   "metadata": {},
   "outputs": [
    {
     "name": "stdout",
     "output_type": "stream",
     "text": [
      "closed_at: 0.3778478207841198\n",
      "relationships: 0.05733545621677155\n",
      "is_closed: 0.3654046816599116\n"
     ]
    }
   ],
   "source": [
    "for feature, imp in zip(features, rf.feature_importances_):\n",
    "    if imp >=0.05:\n",
    "        print(f\"{feature}: {imp}\")"
   ]
  },
  {
   "cell_type": "code",
   "execution_count": 56,
   "metadata": {},
   "outputs": [
    {
     "name": "stdout",
     "output_type": "stream",
     "text": [
      "98.91304347826086\n"
     ]
    }
   ],
   "source": [
    "ada_boost(rf)"
   ]
  },
  {
   "cell_type": "code",
   "execution_count": 57,
   "metadata": {},
   "outputs": [
    {
     "name": "stdout",
     "output_type": "stream",
     "text": [
      "98.91304347826086\n"
     ]
    }
   ],
   "source": [
    "lgbm = LGBMClassifier(max_depth=8, learning_rate=0.3, n_estimators=1000, feature_fraction=0.99, min_data_in_leaf=5,\n",
    "                      objective='binary', num_leaves=8)\n",
    "print(lgbm.fit(X_train, y_train).score(X_test, y_test)*100)"
   ]
  },
  {
   "cell_type": "code",
   "execution_count": 58,
   "metadata": {},
   "outputs": [
    {
     "name": "stdout",
     "output_type": "stream",
     "text": [
      "98.91304347826086\n"
     ]
    }
   ],
   "source": [
    "xgb = XGBClassifier(max_depth = 5, num_parallel_tree=7, n_estimators=1000, \n",
    "                   objective ='reg:logistic', colsample_bytree = 0.99, \n",
    "                   learning_rate = 0.3, alpha = 0.2)\n",
    "print(xgb.fit(X_train, y_train).score(X_test, y_test)*100)"
   ]
  },
  {
   "cell_type": "markdown",
   "metadata": {},
   "source": [
    "# Testing"
   ]
  },
  {
   "cell_type": "code",
   "execution_count": 59,
   "metadata": {},
   "outputs": [],
   "source": [
    "df_test.state_code.fillna(df_test.state_code.median(), inplace=True)"
   ]
  },
  {
   "cell_type": "code",
   "execution_count": 60,
   "metadata": {},
   "outputs": [
    {
     "data": {
      "text/plain": [
       "((919, 41), (919,))"
      ]
     },
     "execution_count": 60,
     "metadata": {},
     "output_type": "execute_result"
    }
   ],
   "source": [
    "X.shape, y.shape"
   ]
  },
  {
   "cell_type": "code",
   "execution_count": 61,
   "metadata": {},
   "outputs": [
    {
     "name": "stdout",
     "output_type": "stream",
     "text": [
      "Accuracy: 98.91186071817192\n"
     ]
    }
   ],
   "source": [
    "# features1 = features\n",
    "# X_train1 = X_train[features]\n",
    "# X_test1 = X_test[features]\n",
    "rf = RandomForestClassifier(n_estimators=1000, oob_score=True, max_depth=8)\n",
    "print(\"Accuracy:\", rf.fit(X, y).oob_score_*100)"
   ]
  },
  {
   "cell_type": "code",
   "execution_count": 62,
   "metadata": {},
   "outputs": [],
   "source": [
    "y_pred = pd.Series(rf.predict(df_test))\n",
    "inv_dict = {v: k for k, v in label_mapping.items()} \n",
    "y_pred = y_pred.map(inv_dict)"
   ]
  },
  {
   "cell_type": "code",
   "execution_count": 63,
   "metadata": {},
   "outputs": [
    {
     "data": {
      "text/plain": [
       "0        closed\n",
       "1        closed\n",
       "2        closed\n",
       "3        closed\n",
       "4        closed\n",
       "         ...   \n",
       "226    acquired\n",
       "227      closed\n",
       "228    acquired\n",
       "229    acquired\n",
       "230    acquired\n",
       "Length: 231, dtype: object"
      ]
     },
     "execution_count": 63,
     "metadata": {},
     "output_type": "execute_result"
    }
   ],
   "source": [
    "y_pred"
   ]
  },
  {
   "cell_type": "code",
   "execution_count": 64,
   "metadata": {},
   "outputs": [],
   "source": [
    "ans = pd.DataFrame([y_pred])\n",
    "ans = ans.melt()[[\"value\"]]\n",
    "ans.to_csv(\"Submission.csv\", index=False)"
   ]
  },
  {
   "cell_type": "markdown",
   "metadata": {},
   "source": [
    "Came first in this hackathon:\n",
    "- https://www.linkedin.com/feed/update/urn:li:activity:6709049790216335360/?commentUrn=urn%3Ali%3Acomment%3A(activity%3A6709043159470624768%2C6709049765012762624)"
   ]
  }
 ],
 "metadata": {
  "kernelspec": {
   "display_name": "Python 3",
   "language": "python",
   "name": "python3"
  },
  "language_info": {
   "codemirror_mode": {
    "name": "ipython",
    "version": 3
   },
   "file_extension": ".py",
   "mimetype": "text/x-python",
   "name": "python",
   "nbconvert_exporter": "python",
   "pygments_lexer": "ipython3",
   "version": "3.8.3"
  }
 },
 "nbformat": 4,
 "nbformat_minor": 4
}
